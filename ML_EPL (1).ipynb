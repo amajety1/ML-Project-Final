{
  "nbformat": 4,
  "nbformat_minor": 0,
  "metadata": {
    "colab": {
      "provenance": []
    },
    "kernelspec": {
      "name": "python3",
      "display_name": "Python 3"
    },
    "language_info": {
      "name": "python"
    }
  },
  "cells": [
    {
      "cell_type": "markdown",
      "source": [
        "# Data preprocessing\n"
      ],
      "metadata": {
        "id": "Br122LoQDGu2"
      }
    },
    {
      "cell_type": "code",
      "execution_count": null,
      "metadata": {
        "id": "bUjku5JE4U7b"
      },
      "outputs": [],
      "source": [
        "import pandas as pd\n",
        "import numpy as np\n"
      ]
    },
    {
      "cell_type": "code",
      "source": [
        "data = pd.read_csv('Premier_League.csv')\n"
      ],
      "metadata": {
        "id": "HvMlhQLR5Pbn"
      },
      "execution_count": null,
      "outputs": []
    },
    {
      "cell_type": "code",
      "source": [
        "data.iloc[1, :]"
      ],
      "metadata": {
        "colab": {
          "base_uri": "https://localhost:8080/",
          "height": 1000
        },
        "id": "cBTQoz-45XRx",
        "outputId": "d406a8a5-1915-4feb-98e2-f0fd63bbad49"
      },
      "execution_count": null,
      "outputs": [
        {
          "output_type": "execute_result",
          "data": {
            "text/plain": [
              "date                                                    28th May 2023\n",
              "clock                                                          4:30pm\n",
              "stadium                                                    Villa Park\n",
              "attendance                                                     42,212\n",
              "Home Team                                                 Aston Villa\n",
              "Goals Home                                                          2\n",
              "Away Team                                    Brighton and Hove Albion\n",
              "Away Goals                                                          1\n",
              "home_possessions                                                 40.3\n",
              "away_possessions                                                 59.7\n",
              "home_shots                                                         12\n",
              "away_shots                                                          8\n",
              "home_on                                                             5\n",
              "away_on                                                             4\n",
              "home_off                                                            5\n",
              "away_off                                                            3\n",
              "home_blocked                                                        2\n",
              "away_blocked                                                        1\n",
              "home_pass                                                        75.3\n",
              "away_pass                                                        83.6\n",
              "home_chances                                                        4\n",
              "away_chances                                                        3\n",
              "home_corners                                                        4\n",
              "away_corners                                                        3\n",
              "home_offside                                                        0\n",
              "away_offside                                                        6\n",
              "home_tackles                                                     42.9\n",
              "away_tackles                                                     15.4\n",
              "home_duels                                                       52.2\n",
              "away_duels                                                       47.8\n",
              "home_saves                                                          3\n",
              "away_saves                                                          3\n",
              "home_fouls                                                         15\n",
              "away_fouls                                                         16\n",
              "home_yellow                                                         4\n",
              "away_yellow                                                         4\n",
              "home_red                                                            0\n",
              "away_red                                                            0\n",
              "links               https://www.skysports.com/football/aston-villa...\n",
              "Name: 1, dtype: object"
            ],
            "text/html": [
              "<div>\n",
              "<style scoped>\n",
              "    .dataframe tbody tr th:only-of-type {\n",
              "        vertical-align: middle;\n",
              "    }\n",
              "\n",
              "    .dataframe tbody tr th {\n",
              "        vertical-align: top;\n",
              "    }\n",
              "\n",
              "    .dataframe thead th {\n",
              "        text-align: right;\n",
              "    }\n",
              "</style>\n",
              "<table border=\"1\" class=\"dataframe\">\n",
              "  <thead>\n",
              "    <tr style=\"text-align: right;\">\n",
              "      <th></th>\n",
              "      <th>1</th>\n",
              "    </tr>\n",
              "  </thead>\n",
              "  <tbody>\n",
              "    <tr>\n",
              "      <th>date</th>\n",
              "      <td>28th May 2023</td>\n",
              "    </tr>\n",
              "    <tr>\n",
              "      <th>clock</th>\n",
              "      <td>4:30pm</td>\n",
              "    </tr>\n",
              "    <tr>\n",
              "      <th>stadium</th>\n",
              "      <td>Villa Park</td>\n",
              "    </tr>\n",
              "    <tr>\n",
              "      <th>attendance</th>\n",
              "      <td>42,212</td>\n",
              "    </tr>\n",
              "    <tr>\n",
              "      <th>Home Team</th>\n",
              "      <td>Aston Villa</td>\n",
              "    </tr>\n",
              "    <tr>\n",
              "      <th>Goals Home</th>\n",
              "      <td>2</td>\n",
              "    </tr>\n",
              "    <tr>\n",
              "      <th>Away Team</th>\n",
              "      <td>Brighton and Hove Albion</td>\n",
              "    </tr>\n",
              "    <tr>\n",
              "      <th>Away Goals</th>\n",
              "      <td>1</td>\n",
              "    </tr>\n",
              "    <tr>\n",
              "      <th>home_possessions</th>\n",
              "      <td>40.3</td>\n",
              "    </tr>\n",
              "    <tr>\n",
              "      <th>away_possessions</th>\n",
              "      <td>59.7</td>\n",
              "    </tr>\n",
              "    <tr>\n",
              "      <th>home_shots</th>\n",
              "      <td>12</td>\n",
              "    </tr>\n",
              "    <tr>\n",
              "      <th>away_shots</th>\n",
              "      <td>8</td>\n",
              "    </tr>\n",
              "    <tr>\n",
              "      <th>home_on</th>\n",
              "      <td>5</td>\n",
              "    </tr>\n",
              "    <tr>\n",
              "      <th>away_on</th>\n",
              "      <td>4</td>\n",
              "    </tr>\n",
              "    <tr>\n",
              "      <th>home_off</th>\n",
              "      <td>5</td>\n",
              "    </tr>\n",
              "    <tr>\n",
              "      <th>away_off</th>\n",
              "      <td>3</td>\n",
              "    </tr>\n",
              "    <tr>\n",
              "      <th>home_blocked</th>\n",
              "      <td>2</td>\n",
              "    </tr>\n",
              "    <tr>\n",
              "      <th>away_blocked</th>\n",
              "      <td>1</td>\n",
              "    </tr>\n",
              "    <tr>\n",
              "      <th>home_pass</th>\n",
              "      <td>75.3</td>\n",
              "    </tr>\n",
              "    <tr>\n",
              "      <th>away_pass</th>\n",
              "      <td>83.6</td>\n",
              "    </tr>\n",
              "    <tr>\n",
              "      <th>home_chances</th>\n",
              "      <td>4</td>\n",
              "    </tr>\n",
              "    <tr>\n",
              "      <th>away_chances</th>\n",
              "      <td>3</td>\n",
              "    </tr>\n",
              "    <tr>\n",
              "      <th>home_corners</th>\n",
              "      <td>4</td>\n",
              "    </tr>\n",
              "    <tr>\n",
              "      <th>away_corners</th>\n",
              "      <td>3</td>\n",
              "    </tr>\n",
              "    <tr>\n",
              "      <th>home_offside</th>\n",
              "      <td>0</td>\n",
              "    </tr>\n",
              "    <tr>\n",
              "      <th>away_offside</th>\n",
              "      <td>6</td>\n",
              "    </tr>\n",
              "    <tr>\n",
              "      <th>home_tackles</th>\n",
              "      <td>42.9</td>\n",
              "    </tr>\n",
              "    <tr>\n",
              "      <th>away_tackles</th>\n",
              "      <td>15.4</td>\n",
              "    </tr>\n",
              "    <tr>\n",
              "      <th>home_duels</th>\n",
              "      <td>52.2</td>\n",
              "    </tr>\n",
              "    <tr>\n",
              "      <th>away_duels</th>\n",
              "      <td>47.8</td>\n",
              "    </tr>\n",
              "    <tr>\n",
              "      <th>home_saves</th>\n",
              "      <td>3</td>\n",
              "    </tr>\n",
              "    <tr>\n",
              "      <th>away_saves</th>\n",
              "      <td>3</td>\n",
              "    </tr>\n",
              "    <tr>\n",
              "      <th>home_fouls</th>\n",
              "      <td>15</td>\n",
              "    </tr>\n",
              "    <tr>\n",
              "      <th>away_fouls</th>\n",
              "      <td>16</td>\n",
              "    </tr>\n",
              "    <tr>\n",
              "      <th>home_yellow</th>\n",
              "      <td>4</td>\n",
              "    </tr>\n",
              "    <tr>\n",
              "      <th>away_yellow</th>\n",
              "      <td>4</td>\n",
              "    </tr>\n",
              "    <tr>\n",
              "      <th>home_red</th>\n",
              "      <td>0</td>\n",
              "    </tr>\n",
              "    <tr>\n",
              "      <th>away_red</th>\n",
              "      <td>0</td>\n",
              "    </tr>\n",
              "    <tr>\n",
              "      <th>links</th>\n",
              "      <td>https://www.skysports.com/football/aston-villa...</td>\n",
              "    </tr>\n",
              "  </tbody>\n",
              "</table>\n",
              "</div><br><label><b>dtype:</b> object</label>"
            ]
          },
          "metadata": {},
          "execution_count": 4
        }
      ]
    },
    {
      "cell_type": "code",
      "source": [
        "data.columns"
      ],
      "metadata": {
        "colab": {
          "base_uri": "https://localhost:8080/"
        },
        "id": "lyft6TwA6034",
        "outputId": "047ec79c-e33c-45af-bc61-75037ff543bd"
      },
      "execution_count": null,
      "outputs": [
        {
          "output_type": "execute_result",
          "data": {
            "text/plain": [
              "Index(['date', 'clock', 'stadium', 'attendance', 'Home Team', 'Goals Home',\n",
              "       'Away Team', 'Away Goals', 'home_possessions', 'away_possessions',\n",
              "       'home_shots', 'away_shots', 'home_on', 'away_on', 'home_off',\n",
              "       'away_off', 'home_blocked', 'away_blocked', 'home_pass', 'away_pass',\n",
              "       'home_chances', 'away_chances', 'home_corners', 'away_corners',\n",
              "       'home_offside', 'away_offside', 'home_tackles', 'away_tackles',\n",
              "       'home_duels', 'away_duels', 'home_saves', 'away_saves', 'home_fouls',\n",
              "       'away_fouls', 'home_yellow', 'away_yellow', 'home_red', 'away_red',\n",
              "       'links'],\n",
              "      dtype='object')"
            ]
          },
          "metadata": {},
          "execution_count": 5
        }
      ]
    },
    {
      "cell_type": "markdown",
      "source": [
        "### Data preprocessing\n",
        "##### Data collected after the match cannot be used for predicting results. So, let's get rid of some columns"
      ],
      "metadata": {
        "id": "NT6h2CU26GSd"
      }
    },
    {
      "cell_type": "code",
      "source": [
        "columns_to_drop = [  'home_on', 'away_on', 'home_off',\n",
        "       'away_off', 'home_blocked', 'away_blocked', 'home_corners', 'away_corners','home_offside', 'away_offside', 'home_tackles', 'away_tackles',\n",
        "       'home_duels', 'away_duels', 'home_saves', 'away_saves', 'home_fouls',\n",
        "       'away_fouls', 'home_yellow', 'away_yellow', 'home_red', 'away_red',\n",
        "       'links' ]\n",
        "\n",
        "data_dropped = data.drop(columns=columns_to_drop)\n"
      ],
      "metadata": {
        "id": "fKuA8oPI5j66"
      },
      "execution_count": null,
      "outputs": []
    },
    {
      "cell_type": "code",
      "source": [
        "data_dropped.columns"
      ],
      "metadata": {
        "colab": {
          "base_uri": "https://localhost:8080/"
        },
        "id": "vr_mXT6u7M_0",
        "outputId": "1850d1fb-efd8-4d8d-a0a6-03c312b06875"
      },
      "execution_count": null,
      "outputs": [
        {
          "output_type": "execute_result",
          "data": {
            "text/plain": [
              "Index(['date', 'clock', 'stadium', 'attendance', 'Home Team', 'Goals Home',\n",
              "       'Away Team', 'Away Goals', 'home_possessions', 'away_possessions',\n",
              "       'home_shots', 'away_shots', 'home_pass', 'away_pass', 'home_chances',\n",
              "       'away_chances'],\n",
              "      dtype='object')"
            ]
          },
          "metadata": {},
          "execution_count": 7
        }
      ]
    },
    {
      "cell_type": "code",
      "source": [
        "data_dropped.iloc[1, :]"
      ],
      "metadata": {
        "colab": {
          "base_uri": "https://localhost:8080/",
          "height": 586
        },
        "id": "_sShWGXp7UcD",
        "outputId": "a95f093b-6307-4b6e-ee43-3c347497510f"
      },
      "execution_count": null,
      "outputs": [
        {
          "output_type": "execute_result",
          "data": {
            "text/plain": [
              "date                           28th May 2023\n",
              "clock                                 4:30pm\n",
              "stadium                           Villa Park\n",
              "attendance                            42,212\n",
              "Home Team                        Aston Villa\n",
              "Goals Home                                 2\n",
              "Away Team           Brighton and Hove Albion\n",
              "Away Goals                                 1\n",
              "home_possessions                        40.3\n",
              "away_possessions                        59.7\n",
              "home_shots                                12\n",
              "away_shots                                 8\n",
              "home_pass                               75.3\n",
              "away_pass                               83.6\n",
              "home_chances                               4\n",
              "away_chances                               3\n",
              "Name: 1, dtype: object"
            ],
            "text/html": [
              "<div>\n",
              "<style scoped>\n",
              "    .dataframe tbody tr th:only-of-type {\n",
              "        vertical-align: middle;\n",
              "    }\n",
              "\n",
              "    .dataframe tbody tr th {\n",
              "        vertical-align: top;\n",
              "    }\n",
              "\n",
              "    .dataframe thead th {\n",
              "        text-align: right;\n",
              "    }\n",
              "</style>\n",
              "<table border=\"1\" class=\"dataframe\">\n",
              "  <thead>\n",
              "    <tr style=\"text-align: right;\">\n",
              "      <th></th>\n",
              "      <th>1</th>\n",
              "    </tr>\n",
              "  </thead>\n",
              "  <tbody>\n",
              "    <tr>\n",
              "      <th>date</th>\n",
              "      <td>28th May 2023</td>\n",
              "    </tr>\n",
              "    <tr>\n",
              "      <th>clock</th>\n",
              "      <td>4:30pm</td>\n",
              "    </tr>\n",
              "    <tr>\n",
              "      <th>stadium</th>\n",
              "      <td>Villa Park</td>\n",
              "    </tr>\n",
              "    <tr>\n",
              "      <th>attendance</th>\n",
              "      <td>42,212</td>\n",
              "    </tr>\n",
              "    <tr>\n",
              "      <th>Home Team</th>\n",
              "      <td>Aston Villa</td>\n",
              "    </tr>\n",
              "    <tr>\n",
              "      <th>Goals Home</th>\n",
              "      <td>2</td>\n",
              "    </tr>\n",
              "    <tr>\n",
              "      <th>Away Team</th>\n",
              "      <td>Brighton and Hove Albion</td>\n",
              "    </tr>\n",
              "    <tr>\n",
              "      <th>Away Goals</th>\n",
              "      <td>1</td>\n",
              "    </tr>\n",
              "    <tr>\n",
              "      <th>home_possessions</th>\n",
              "      <td>40.3</td>\n",
              "    </tr>\n",
              "    <tr>\n",
              "      <th>away_possessions</th>\n",
              "      <td>59.7</td>\n",
              "    </tr>\n",
              "    <tr>\n",
              "      <th>home_shots</th>\n",
              "      <td>12</td>\n",
              "    </tr>\n",
              "    <tr>\n",
              "      <th>away_shots</th>\n",
              "      <td>8</td>\n",
              "    </tr>\n",
              "    <tr>\n",
              "      <th>home_pass</th>\n",
              "      <td>75.3</td>\n",
              "    </tr>\n",
              "    <tr>\n",
              "      <th>away_pass</th>\n",
              "      <td>83.6</td>\n",
              "    </tr>\n",
              "    <tr>\n",
              "      <th>home_chances</th>\n",
              "      <td>4</td>\n",
              "    </tr>\n",
              "    <tr>\n",
              "      <th>away_chances</th>\n",
              "      <td>3</td>\n",
              "    </tr>\n",
              "  </tbody>\n",
              "</table>\n",
              "</div><br><label><b>dtype:</b> object</label>"
            ]
          },
          "metadata": {},
          "execution_count": 8
        }
      ]
    },
    {
      "cell_type": "markdown",
      "source": [
        "#### Now, let's create the match result using the 'Goals Home' and 'Away Goals' columns"
      ],
      "metadata": {
        "id": "j5YiI3zJ8ots"
      }
    },
    {
      "cell_type": "code",
      "source": [
        "\n",
        "def get_result(row):\n",
        "  if row['Goals Home'] > row['Away Goals']:\n",
        "    return 'Win'\n",
        "  elif row['Goals Home'] == row['Away Goals']:\n",
        "    return 'Tie'\n",
        "  else:\n",
        "    return 'Loss'\n",
        "\n",
        "data_dropped['Home Result'] = data_dropped.apply(get_result, axis=1)\n"
      ],
      "metadata": {
        "id": "dO0927co8ykB"
      },
      "execution_count": null,
      "outputs": []
    },
    {
      "cell_type": "code",
      "source": [
        "data_dropped.iloc[1, :]"
      ],
      "metadata": {
        "colab": {
          "base_uri": "https://localhost:8080/",
          "height": 617
        },
        "id": "VIidXM4R9UHI",
        "outputId": "e6c4d874-d53b-4909-dbf1-5d8e8a51117d"
      },
      "execution_count": null,
      "outputs": [
        {
          "output_type": "execute_result",
          "data": {
            "text/plain": [
              "date                           28th May 2023\n",
              "clock                                 4:30pm\n",
              "stadium                           Villa Park\n",
              "attendance                            42,212\n",
              "Home Team                        Aston Villa\n",
              "Goals Home                                 2\n",
              "Away Team           Brighton and Hove Albion\n",
              "Away Goals                                 1\n",
              "home_possessions                        40.3\n",
              "away_possessions                        59.7\n",
              "home_shots                                12\n",
              "away_shots                                 8\n",
              "home_pass                               75.3\n",
              "away_pass                               83.6\n",
              "home_chances                               4\n",
              "away_chances                               3\n",
              "Home Result                              Win\n",
              "Name: 1, dtype: object"
            ],
            "text/html": [
              "<div>\n",
              "<style scoped>\n",
              "    .dataframe tbody tr th:only-of-type {\n",
              "        vertical-align: middle;\n",
              "    }\n",
              "\n",
              "    .dataframe tbody tr th {\n",
              "        vertical-align: top;\n",
              "    }\n",
              "\n",
              "    .dataframe thead th {\n",
              "        text-align: right;\n",
              "    }\n",
              "</style>\n",
              "<table border=\"1\" class=\"dataframe\">\n",
              "  <thead>\n",
              "    <tr style=\"text-align: right;\">\n",
              "      <th></th>\n",
              "      <th>1</th>\n",
              "    </tr>\n",
              "  </thead>\n",
              "  <tbody>\n",
              "    <tr>\n",
              "      <th>date</th>\n",
              "      <td>28th May 2023</td>\n",
              "    </tr>\n",
              "    <tr>\n",
              "      <th>clock</th>\n",
              "      <td>4:30pm</td>\n",
              "    </tr>\n",
              "    <tr>\n",
              "      <th>stadium</th>\n",
              "      <td>Villa Park</td>\n",
              "    </tr>\n",
              "    <tr>\n",
              "      <th>attendance</th>\n",
              "      <td>42,212</td>\n",
              "    </tr>\n",
              "    <tr>\n",
              "      <th>Home Team</th>\n",
              "      <td>Aston Villa</td>\n",
              "    </tr>\n",
              "    <tr>\n",
              "      <th>Goals Home</th>\n",
              "      <td>2</td>\n",
              "    </tr>\n",
              "    <tr>\n",
              "      <th>Away Team</th>\n",
              "      <td>Brighton and Hove Albion</td>\n",
              "    </tr>\n",
              "    <tr>\n",
              "      <th>Away Goals</th>\n",
              "      <td>1</td>\n",
              "    </tr>\n",
              "    <tr>\n",
              "      <th>home_possessions</th>\n",
              "      <td>40.3</td>\n",
              "    </tr>\n",
              "    <tr>\n",
              "      <th>away_possessions</th>\n",
              "      <td>59.7</td>\n",
              "    </tr>\n",
              "    <tr>\n",
              "      <th>home_shots</th>\n",
              "      <td>12</td>\n",
              "    </tr>\n",
              "    <tr>\n",
              "      <th>away_shots</th>\n",
              "      <td>8</td>\n",
              "    </tr>\n",
              "    <tr>\n",
              "      <th>home_pass</th>\n",
              "      <td>75.3</td>\n",
              "    </tr>\n",
              "    <tr>\n",
              "      <th>away_pass</th>\n",
              "      <td>83.6</td>\n",
              "    </tr>\n",
              "    <tr>\n",
              "      <th>home_chances</th>\n",
              "      <td>4</td>\n",
              "    </tr>\n",
              "    <tr>\n",
              "      <th>away_chances</th>\n",
              "      <td>3</td>\n",
              "    </tr>\n",
              "    <tr>\n",
              "      <th>Home Result</th>\n",
              "      <td>Win</td>\n",
              "    </tr>\n",
              "  </tbody>\n",
              "</table>\n",
              "</div><br><label><b>dtype:</b> object</label>"
            ]
          },
          "metadata": {},
          "execution_count": 10
        }
      ]
    },
    {
      "cell_type": "markdown",
      "source": [
        "### We will now categorically encode our home and away team variables."
      ],
      "metadata": {
        "id": "6DB3Ny9O_ChK"
      }
    },
    {
      "cell_type": "code",
      "source": [
        "home_teams = data_dropped['Home Team'].unique()\n",
        "home_teams"
      ],
      "metadata": {
        "colab": {
          "base_uri": "https://localhost:8080/"
        },
        "id": "i_4rnpnm9dwj",
        "outputId": "8a68d399-f069-466a-e5da-fbaa68256617"
      },
      "execution_count": null,
      "outputs": [
        {
          "output_type": "execute_result",
          "data": {
            "text/plain": [
              "array(['Arsenal', 'Aston Villa', 'Brentford', 'Chelsea', 'Crystal Palace',\n",
              "       'Everton', 'Leeds United', 'Leicester City', 'Manchester United',\n",
              "       'Southampton', 'Brighton and Hove Albion', 'Newcastle United',\n",
              "       'West Ham United', 'Manchester City', 'Tottenham Hotspur',\n",
              "       'Bournemouth', 'Fulham', 'Liverpool', 'Wolverhampton Wanderers',\n",
              "       'Nottingham Forest'], dtype=object)"
            ]
          },
          "metadata": {},
          "execution_count": 11
        }
      ]
    },
    {
      "cell_type": "code",
      "source": [
        "away_teams = data_dropped['Away Team'].unique()\n",
        "away_teams"
      ],
      "metadata": {
        "colab": {
          "base_uri": "https://localhost:8080/"
        },
        "id": "QkyEKIH0-2yV",
        "outputId": "06d8618f-c9f3-4ed2-a534-09001f2e07ce"
      },
      "execution_count": null,
      "outputs": [
        {
          "output_type": "execute_result",
          "data": {
            "text/plain": [
              "array(['Wolverhampton Wanderers', 'Brighton and Hove Albion',\n",
              "       'Manchester City', 'Newcastle United', 'Nottingham Forest',\n",
              "       'Bournemouth', 'Tottenham Hotspur', 'West Ham United', 'Fulham',\n",
              "       'Liverpool', 'Chelsea', 'Leicester City', 'Leeds United',\n",
              "       'Southampton', 'Brentford', 'Manchester United', 'Crystal Palace',\n",
              "       'Aston Villa', 'Everton', 'Arsenal'], dtype=object)"
            ]
          },
          "metadata": {},
          "execution_count": 12
        }
      ]
    },
    {
      "cell_type": "markdown",
      "source": [
        "### We cannot simply apply encoding to both home_teams and away_teams, since they have some common teams. Let us find these common teams"
      ],
      "metadata": {
        "id": "ppODz-AZ_Ikn"
      }
    },
    {
      "cell_type": "code",
      "source": [
        "# prompt: find common teams in home_teams and away_teams\n",
        "\n",
        "common_teams = set(home_teams).intersection(set(away_teams))\n",
        "common_teams\n"
      ],
      "metadata": {
        "colab": {
          "base_uri": "https://localhost:8080/"
        },
        "id": "g7fiujub-5Zw",
        "outputId": "65ea6ea1-1bb8-4426-bb74-c5cb17eac833"
      },
      "execution_count": null,
      "outputs": [
        {
          "output_type": "execute_result",
          "data": {
            "text/plain": [
              "{'Arsenal',\n",
              " 'Aston Villa',\n",
              " 'Bournemouth',\n",
              " 'Brentford',\n",
              " 'Brighton and Hove Albion',\n",
              " 'Chelsea',\n",
              " 'Crystal Palace',\n",
              " 'Everton',\n",
              " 'Fulham',\n",
              " 'Leeds United',\n",
              " 'Leicester City',\n",
              " 'Liverpool',\n",
              " 'Manchester City',\n",
              " 'Manchester United',\n",
              " 'Newcastle United',\n",
              " 'Nottingham Forest',\n",
              " 'Southampton',\n",
              " 'Tottenham Hotspur',\n",
              " 'West Ham United',\n",
              " 'Wolverhampton Wanderers'}"
            ]
          },
          "metadata": {},
          "execution_count": 13
        }
      ]
    },
    {
      "cell_type": "markdown",
      "source": [
        "### We need to encode the two variables such that teams present in both home_teams and away_teams get the same label, and not different"
      ],
      "metadata": {
        "id": "pizp0JQ2_u8Z"
      }
    },
    {
      "cell_type": "code",
      "source": [
        "\n",
        "all_teams = set(home_teams).union(set(away_teams))\n",
        "team_to_label = {team: i for i, team in enumerate(all_teams)}\n",
        "\n",
        "data_dropped['Home Team Label'] = data_dropped['Home Team'].map(team_to_label)\n",
        "data_dropped['Away Team Label'] = data_dropped['Away Team'].map(team_to_label)\n"
      ],
      "metadata": {
        "id": "Ym0vwFng_gNa"
      },
      "execution_count": null,
      "outputs": []
    },
    {
      "cell_type": "code",
      "source": [
        "\n",
        "print(data_dropped[['Home Team Label', 'Home Team', 'Away Team Label', 'Away Team']].head(15).to_string(index=False))\n"
      ],
      "metadata": {
        "colab": {
          "base_uri": "https://localhost:8080/"
        },
        "id": "oburgw8JADIZ",
        "outputId": "0621bfc1-c5e1-4774-c2da-81070cc8d864"
      },
      "execution_count": null,
      "outputs": [
        {
          "output_type": "stream",
          "name": "stdout",
          "text": [
            " Home Team Label                Home Team  Away Team Label                Away Team\n",
            "               5                  Arsenal               18  Wolverhampton Wanderers\n",
            "               4              Aston Villa               14 Brighton and Hove Albion\n",
            "               8                Brentford               12          Manchester City\n",
            "              16                  Chelsea               11         Newcastle United\n",
            "               3           Crystal Palace                6        Nottingham Forest\n",
            "               2                  Everton               10              Bournemouth\n",
            "               7             Leeds United               15        Tottenham Hotspur\n",
            "               1           Leicester City               13          West Ham United\n",
            "               9        Manchester United               17                   Fulham\n",
            "               0              Southampton               19                Liverpool\n",
            "               9        Manchester United               16                  Chelsea\n",
            "              14 Brighton and Hove Albion               12          Manchester City\n",
            "              11         Newcastle United                1           Leicester City\n",
            "              13          West Ham United                7             Leeds United\n",
            "              14 Brighton and Hove Albion                0              Southampton\n"
          ]
        }
      ]
    },
    {
      "cell_type": "markdown",
      "source": [
        "#### As we can see with teams present in both Home and Away columns, such as Chelsea(0), Leicester City(16), Brighton and Hove Albion(7), labeling has been done accurately"
      ],
      "metadata": {
        "id": "flC67AALAbc5"
      }
    },
    {
      "cell_type": "code",
      "source": [
        "# prompt: print first record\n",
        "\n",
        "print(data_dropped.iloc[0].to_string())\n"
      ],
      "metadata": {
        "colab": {
          "base_uri": "https://localhost:8080/"
        },
        "id": "Kxn_p5UKA6H3",
        "outputId": "4dacd453-245d-4401-d04c-f39ea5cda002"
      },
      "execution_count": null,
      "outputs": [
        {
          "output_type": "stream",
          "name": "stdout",
          "text": [
            "date                          28th May 2023\n",
            "clock                                4:30pm\n",
            "stadium                    Emirates Stadium\n",
            "attendance                           60,095\n",
            "Home Team                           Arsenal\n",
            "Goals Home                                5\n",
            "Away Team           Wolverhampton Wanderers\n",
            "Away Goals                                0\n",
            "home_possessions                       51.0\n",
            "away_possessions                       49.0\n",
            "home_shots                               14\n",
            "away_shots                                6\n",
            "home_pass                              89.0\n",
            "away_pass                              88.0\n",
            "home_chances                              3\n",
            "away_chances                              0\n",
            "Home Result                             Win\n",
            "Home Team Label                           5\n",
            "Away Team Label                          18\n"
          ]
        }
      ]
    },
    {
      "cell_type": "markdown",
      "source": [
        "### Stadium encoding"
      ],
      "metadata": {
        "id": "wihwMFimBQSJ"
      }
    },
    {
      "cell_type": "code",
      "source": [
        "data_dropped['stadium'].unique()"
      ],
      "metadata": {
        "colab": {
          "base_uri": "https://localhost:8080/"
        },
        "id": "nIpWPrlqBSNG",
        "outputId": "10d89cca-8fe5-4a88-ec30-248da1ec08bc"
      },
      "execution_count": null,
      "outputs": [
        {
          "output_type": "execute_result",
          "data": {
            "text/plain": [
              "array(['Emirates Stadium', 'Villa Park', 'Gtech Community Stadium',\n",
              "       'Stamford Bridge', 'Selhurst Park', 'Goodison Park', 'Elland Road',\n",
              "       'The King Power Stadium', 'Old Trafford', \"St. Mary's Stadium\",\n",
              "       'Amex Stadium', \"St James' Park, Newcastle\", 'London Stadium',\n",
              "       'Etihad Stadium', 'Tottenham Hotspur Stadium', 'Vitality Stadium',\n",
              "       'Craven Cottage', 'Anfield', 'Molineux', 'The City Ground', 'Nan'],\n",
              "      dtype=object)"
            ]
          },
          "metadata": {},
          "execution_count": 17
        }
      ]
    },
    {
      "cell_type": "code",
      "source": [
        "\n",
        "from sklearn.preprocessing import LabelEncoder\n",
        "\n",
        "le = LabelEncoder()\n",
        "data_dropped['stadium_encoded'] = le.fit_transform(data_dropped['stadium'])\n",
        "\n",
        "print(data_dropped[['stadium', 'stadium_encoded']].head(25).to_string(index=False))\n"
      ],
      "metadata": {
        "colab": {
          "base_uri": "https://localhost:8080/"
        },
        "id": "y8F8yja-BuQA",
        "outputId": "bf1da493-83f4-41bc-face-f71456e1719d"
      },
      "execution_count": null,
      "outputs": [
        {
          "output_type": "stream",
          "name": "stdout",
          "text": [
            "                  stadium  stadium_encoded\n",
            "         Emirates Stadium                4\n",
            "               Villa Park               19\n",
            "  Gtech Community Stadium                7\n",
            "          Stamford Bridge               15\n",
            "            Selhurst Park               12\n",
            "            Goodison Park                6\n",
            "              Elland Road                3\n",
            "   The King Power Stadium               17\n",
            "             Old Trafford               11\n",
            "       St. Mary's Stadium               14\n",
            "             Old Trafford               11\n",
            "             Amex Stadium                0\n",
            "St James' Park, Newcastle               13\n",
            "           London Stadium                8\n",
            "             Amex Stadium                0\n",
            "           Etihad Stadium                5\n",
            "Tottenham Hotspur Stadium               18\n",
            "         Vitality Stadium               20\n",
            "           Craven Cottage                2\n",
            "                  Anfield                1\n",
            "                 Molineux                9\n",
            "          The City Ground               16\n",
            "St James' Park, Newcastle               13\n",
            "   The King Power Stadium               17\n",
            "  Gtech Community Stadium                7\n"
          ]
        }
      ]
    },
    {
      "cell_type": "code",
      "source": [
        "print(data_dropped.iloc[0].to_string())"
      ],
      "metadata": {
        "colab": {
          "base_uri": "https://localhost:8080/"
        },
        "id": "4ub9GIW8DHsS",
        "outputId": "624afad4-8bf6-4635-c3b6-e95efdde66c7"
      },
      "execution_count": null,
      "outputs": [
        {
          "output_type": "stream",
          "name": "stdout",
          "text": [
            "date                          28th May 2023\n",
            "clock                                4:30pm\n",
            "stadium                    Emirates Stadium\n",
            "attendance                           60,095\n",
            "Home Team                           Arsenal\n",
            "Goals Home                                5\n",
            "Away Team           Wolverhampton Wanderers\n",
            "Away Goals                                0\n",
            "home_possessions                       51.0\n",
            "away_possessions                       49.0\n",
            "home_shots                               14\n",
            "away_shots                                6\n",
            "home_pass                              89.0\n",
            "away_pass                              88.0\n",
            "home_chances                              3\n",
            "away_chances                              0\n",
            "Home Result                             Win\n",
            "Home Team Label                           5\n",
            "Away Team Label                          18\n",
            "stadium_encoded                           4\n"
          ]
        }
      ]
    },
    {
      "cell_type": "code",
      "source": [
        "# Convert 'attendance' column to integer, handling potential non-numeric values\n",
        "data_dropped['attendance'] = pd.to_numeric(data_dropped['attendance'].str.replace(',', ''), errors='coerce').fillna(0).astype(int)\n",
        "\n",
        "data_dropped.iloc[0]"
      ],
      "metadata": {
        "colab": {
          "base_uri": "https://localhost:8080/",
          "height": 711
        },
        "id": "FyPILP11DMVe",
        "outputId": "a0248d4e-0c02-46ce-c488-9e824228d4d0"
      },
      "execution_count": null,
      "outputs": [
        {
          "output_type": "execute_result",
          "data": {
            "text/plain": [
              "date                          28th May 2023\n",
              "clock                                4:30pm\n",
              "stadium                    Emirates Stadium\n",
              "attendance                            60095\n",
              "Home Team                           Arsenal\n",
              "Goals Home                                5\n",
              "Away Team           Wolverhampton Wanderers\n",
              "Away Goals                                0\n",
              "home_possessions                       51.0\n",
              "away_possessions                       49.0\n",
              "home_shots                               14\n",
              "away_shots                                6\n",
              "home_pass                              89.0\n",
              "away_pass                              88.0\n",
              "home_chances                              3\n",
              "away_chances                              0\n",
              "Home Result                             Win\n",
              "Home Team Label                           5\n",
              "Away Team Label                          18\n",
              "stadium_encoded                           4\n",
              "Name: 0, dtype: object"
            ],
            "text/html": [
              "<div>\n",
              "<style scoped>\n",
              "    .dataframe tbody tr th:only-of-type {\n",
              "        vertical-align: middle;\n",
              "    }\n",
              "\n",
              "    .dataframe tbody tr th {\n",
              "        vertical-align: top;\n",
              "    }\n",
              "\n",
              "    .dataframe thead th {\n",
              "        text-align: right;\n",
              "    }\n",
              "</style>\n",
              "<table border=\"1\" class=\"dataframe\">\n",
              "  <thead>\n",
              "    <tr style=\"text-align: right;\">\n",
              "      <th></th>\n",
              "      <th>0</th>\n",
              "    </tr>\n",
              "  </thead>\n",
              "  <tbody>\n",
              "    <tr>\n",
              "      <th>date</th>\n",
              "      <td>28th May 2023</td>\n",
              "    </tr>\n",
              "    <tr>\n",
              "      <th>clock</th>\n",
              "      <td>4:30pm</td>\n",
              "    </tr>\n",
              "    <tr>\n",
              "      <th>stadium</th>\n",
              "      <td>Emirates Stadium</td>\n",
              "    </tr>\n",
              "    <tr>\n",
              "      <th>attendance</th>\n",
              "      <td>60095</td>\n",
              "    </tr>\n",
              "    <tr>\n",
              "      <th>Home Team</th>\n",
              "      <td>Arsenal</td>\n",
              "    </tr>\n",
              "    <tr>\n",
              "      <th>Goals Home</th>\n",
              "      <td>5</td>\n",
              "    </tr>\n",
              "    <tr>\n",
              "      <th>Away Team</th>\n",
              "      <td>Wolverhampton Wanderers</td>\n",
              "    </tr>\n",
              "    <tr>\n",
              "      <th>Away Goals</th>\n",
              "      <td>0</td>\n",
              "    </tr>\n",
              "    <tr>\n",
              "      <th>home_possessions</th>\n",
              "      <td>51.0</td>\n",
              "    </tr>\n",
              "    <tr>\n",
              "      <th>away_possessions</th>\n",
              "      <td>49.0</td>\n",
              "    </tr>\n",
              "    <tr>\n",
              "      <th>home_shots</th>\n",
              "      <td>14</td>\n",
              "    </tr>\n",
              "    <tr>\n",
              "      <th>away_shots</th>\n",
              "      <td>6</td>\n",
              "    </tr>\n",
              "    <tr>\n",
              "      <th>home_pass</th>\n",
              "      <td>89.0</td>\n",
              "    </tr>\n",
              "    <tr>\n",
              "      <th>away_pass</th>\n",
              "      <td>88.0</td>\n",
              "    </tr>\n",
              "    <tr>\n",
              "      <th>home_chances</th>\n",
              "      <td>3</td>\n",
              "    </tr>\n",
              "    <tr>\n",
              "      <th>away_chances</th>\n",
              "      <td>0</td>\n",
              "    </tr>\n",
              "    <tr>\n",
              "      <th>Home Result</th>\n",
              "      <td>Win</td>\n",
              "    </tr>\n",
              "    <tr>\n",
              "      <th>Home Team Label</th>\n",
              "      <td>5</td>\n",
              "    </tr>\n",
              "    <tr>\n",
              "      <th>Away Team Label</th>\n",
              "      <td>18</td>\n",
              "    </tr>\n",
              "    <tr>\n",
              "      <th>stadium_encoded</th>\n",
              "      <td>4</td>\n",
              "    </tr>\n",
              "  </tbody>\n",
              "</table>\n",
              "</div><br><label><b>dtype:</b> object</label>"
            ]
          },
          "metadata": {},
          "execution_count": 20
        }
      ]
    },
    {
      "cell_type": "markdown",
      "source": [
        "## Let's see attendance stats\n"
      ],
      "metadata": {
        "id": "2XIZkNejDd8y"
      }
    },
    {
      "cell_type": "code",
      "source": [
        "\n",
        "# Calculate and print attendance statistics\n",
        "attendance_stats = data_dropped['attendance'].describe()\n",
        "print(\"Attendance Statistics:\")\n",
        "print(attendance_stats)\n",
        "\n",
        "# Calculate and print median attendance\n",
        "median_attendance = data_dropped['attendance'].median()\n",
        "print(\"\\nMedian Attendance:\", median_attendance)\n",
        "\n",
        "# Calculate and print mode attendance (most frequent attendance value)\n",
        "mode_attendance = data_dropped['attendance'].mode()[0] if not data_dropped['attendance'].mode().empty else \"No mode found\"\n",
        "print(\"\\nMode Attendance:\", mode_attendance)\n",
        "\n",
        "# Calculate and print the range of attendance\n",
        "range_attendance = data_dropped['attendance'].max() - data_dropped['attendance'].min()\n",
        "print(\"\\nRange of Attendance:\", range_attendance)\n",
        "\n",
        "\n",
        "# Calculate and print the variance of attendance\n",
        "variance_attendance = data_dropped['attendance'].var()\n",
        "print(\"\\nVariance of Attendance:\", variance_attendance)\n",
        "\n",
        "# Calculate and print the standard deviation of attendance\n",
        "std_attendance = data_dropped['attendance'].std()\n",
        "print(\"\\nStandard Deviation of Attendance:\", std_attendance)\n"
      ],
      "metadata": {
        "colab": {
          "base_uri": "https://localhost:8080/"
        },
        "id": "Qf_AjxNfDAom",
        "outputId": "1921aa5c-f81e-4c08-d211-6c9532bbf161"
      },
      "execution_count": null,
      "outputs": [
        {
          "output_type": "stream",
          "name": "stdout",
          "text": [
            "Attendance Statistics:\n",
            "count      380.000000\n",
            "mean     39669.876316\n",
            "std      16837.705747\n",
            "min          0.000000\n",
            "25%      29359.750000\n",
            "50%      36880.000000\n",
            "75%      53283.000000\n",
            "max      75546.000000\n",
            "Name: attendance, dtype: float64\n",
            "\n",
            "Median Attendance: 36880.0\n",
            "\n",
            "Mode Attendance: 0\n",
            "\n",
            "Range of Attendance: 75546\n",
            "\n",
            "Variance of Attendance: 283508334.8210734\n",
            "\n",
            "Standard Deviation of Attendance: 16837.70574695595\n"
          ]
        }
      ]
    },
    {
      "cell_type": "code",
      "source": [
        "\n",
        "import matplotlib.pyplot as plt\n",
        "import seaborn as sns\n",
        "\n",
        "# Create a histogram of the attendance distribution\n",
        "plt.figure(figsize=(10, 6))\n",
        "sns.histplot(data_dropped['attendance'], kde=True)  # kde=True plots a curve\n",
        "plt.title('Attendance Distribution')\n",
        "plt.xlabel('Attendance')\n",
        "plt.ylabel('Frequency')\n",
        "plt.show()\n"
      ],
      "metadata": {
        "colab": {
          "base_uri": "https://localhost:8080/",
          "height": 564
        },
        "id": "hKA3bz3KFohE",
        "outputId": "2f652816-232d-4cb3-ad5a-d54b408164d7"
      },
      "execution_count": null,
      "outputs": [
        {
          "output_type": "display_data",
          "data": {
            "text/plain": [
              "<Figure size 1000x600 with 1 Axes>"
            ],
            "image/png": "[encoded data removed]"
          },
          "metadata": {}
        }
      ]
    },
    {
      "cell_type": "code",
      "source": [
        "\n",
        "from sklearn.preprocessing import MinMaxScaler\n",
        "\n",
        "# Assuming 'attendance' is the column you want to scale\n",
        "scaler = MinMaxScaler()\n",
        "data_dropped['attendance_scaled'] = scaler.fit_transform(data_dropped[['attendance']])\n",
        "\n",
        "# Print the scaled attendance values\n",
        "print(data_dropped[['attendance', 'attendance_scaled']].head(10))\n"
      ],
      "metadata": {
        "id": "KW-Pt2GwTvN0",
        "colab": {
          "base_uri": "https://localhost:8080/"
        },
        "outputId": "ffd423ad-553c-4aba-c664-89f5a6ddea77"
      },
      "execution_count": null,
      "outputs": [
        {
          "output_type": "stream",
          "name": "stdout",
          "text": [
            "   attendance  attendance_scaled\n",
            "0       60095           0.795476\n",
            "1       42212           0.558759\n",
            "2       17120           0.226617\n",
            "3       40130           0.531200\n",
            "4       25198           0.333545\n",
            "5       39201           0.518902\n",
            "6       36871           0.488060\n",
            "7       32183           0.426005\n",
            "8       73465           0.972454\n",
            "9       31129           0.412054\n"
          ]
        }
      ]
    },
    {
      "cell_type": "code",
      "source": [
        "# Lets drop the home and away goals now that we have result, as well as attendance and stadium\n",
        "data_dropped = data_dropped.drop(columns=['Goals Home', 'Away Goals', 'attendance', 'stadium'])\n"
      ],
      "metadata": {
        "id": "mOGMhDSw2ZUK"
      },
      "execution_count": null,
      "outputs": []
    },
    {
      "cell_type": "code",
      "source": [
        "print(data_dropped.iloc[:10, :].to_string())"
      ],
      "metadata": {
        "colab": {
          "base_uri": "https://localhost:8080/"
        },
        "id": "5oN7Ln4Q2xNe",
        "outputId": "a5963d7b-e49b-4a36-ebf8-364d6ecf6d69"
      },
      "execution_count": null,
      "outputs": [
        {
          "output_type": "stream",
          "name": "stdout",
          "text": [
            "            date   clock          Home Team                 Away Team  home_possessions  away_possessions  home_shots  away_shots  home_pass  away_pass  home_chances  away_chances Home Result  Home Team Label  Away Team Label  stadium_encoded  attendance_scaled\n",
            "0  28th May 2023  4:30pm            Arsenal   Wolverhampton Wanderers              51.0              49.0          14           6       89.0       88.0             3             0         Win                5               18                4           0.795476\n",
            "1  28th May 2023  4:30pm        Aston Villa  Brighton and Hove Albion              40.3              59.7          12           8       75.3       83.6             4             3         Win                4               14               19           0.558759\n",
            "2  28th May 2023  4:30pm          Brentford           Manchester City              34.4              65.6          11          17       79.3       89.8             2             1         Win                8               12                7           0.226617\n",
            "3  28th May 2023  4:30pm            Chelsea          Newcastle United              64.4              35.6          22          13       88.9       83.3             2             2         Tie               16               11               15           0.531200\n",
            "4  28th May 2023  4:30pm     Crystal Palace         Nottingham Forest              66.0              34.0          15           7       85.7       69.9             1             0         Tie                3                6               12           0.333545\n",
            "5  28th May 2023  4:30pm            Everton               Bournemouth              37.8              62.2          13           7       73.1       83.9             0             0         Win                2               10                6           0.518902\n",
            "6  28th May 2023  4:30pm       Leeds United         Tottenham Hotspur              52.1              47.9          19          11       77.3       78.0             1             3        Loss                7               15                3           0.488060\n",
            "7  28th May 2023  4:30pm     Leicester City           West Ham United              48.2              51.8          13          16       87.8       88.7             2             1         Win                1               13               17           0.426005\n",
            "8  28th May 2023  4:30pm  Manchester United                    Fulham              53.2              46.8          21          10       84.2       84.0             4             2         Win                9               17               11           0.972454\n",
            "9  28th May 2023  4:30pm        Southampton                 Liverpool              30.9              69.1          15          30       74.5       86.9             1             5         Tie                0               19               14           0.412054\n"
          ]
        }
      ]
    },
    {
      "cell_type": "markdown",
      "source": [
        "### Adding last 5 matches (recent form) to the data"
      ],
      "metadata": {
        "id": "AxsuWDPSDlPS"
      }
    },
    {
      "cell_type": "code",
      "source": [
        "import pandas as pd\n",
        "import re\n",
        "\n",
        "# Function to remove ordinal suffixes (st, nd, rd, th) from date strings\n",
        "def clean_date(date_str):\n",
        "    # Remove st, nd, rd, th from the date string\n",
        "    return re.sub(r'(\\d+)(st|nd|rd|th)', r'\\1', date_str)\n",
        "\n",
        "# Function to infer away team result from home team result\n",
        "def get_away_result(home_result):\n",
        "    if home_result == 'Win':\n",
        "        return 'Loss'\n",
        "    elif home_result == 'Tie':\n",
        "        return 'Tie'\n",
        "    elif home_result == 'Loss':\n",
        "        return 'Win'\n",
        "    return None\n",
        "\n",
        "# Function to calculate points from a result\n",
        "def get_points(result):\n",
        "    if result == 'Win':\n",
        "        return 3\n",
        "    elif result == 'Tie':\n",
        "        return 1\n",
        "    elif result == 'Loss':\n",
        "        return 0\n",
        "    return 0\n",
        "\n",
        "# Function to compute points from last 5 matches for a team\n",
        "def compute_last_5_points(team_label, match_index, df, team_col, result_col):\n",
        "    # Get all prior matches for the team (home or away) before the current match\n",
        "    prior_matches = df.iloc[:match_index]\n",
        "    team_matches = prior_matches[\n",
        "        (prior_matches['Home Team Label'] == team_label) |\n",
        "        (prior_matches['Away Team Label'] == team_label)\n",
        "    ]\n",
        "\n",
        "    # Sort by index to ensure chronological order (assuming dataset is ordered by date)\n",
        "    team_matches = team_matches.sort_index(ascending=False)\n",
        "\n",
        "    # Limit to last 5 matches\n",
        "    team_matches = team_matches.head(5)\n",
        "\n",
        "    points = 0\n",
        "    for _, row in team_matches.iterrows():\n",
        "        if row['Home Team Label'] == team_label:\n",
        "            # Team was home\n",
        "            points += get_points(row['Home Result'])\n",
        "        else:\n",
        "            # Team was away\n",
        "            points += get_points(get_away_result(row['Home Result']))\n",
        "\n",
        "    return points\n",
        "\n",
        "# Main function to add new columns\n",
        "def add_last_5_points_columns(df):\n",
        "    # Create new columns\n",
        "    df['Home_Team_Last_5_Points'] = 0\n",
        "    df['Away_Team_Last_5_Points'] = 0\n",
        "\n",
        "    # Clean the date column to remove ordinal suffixes\n",
        "    df['date_cleaned'] = df['date'].apply(clean_date)\n",
        "\n",
        "    # Convert cleaned date to datetime\n",
        "    df['date_cleaned'] = pd.to_datetime(df['date_cleaned'], format='%d %B %Y', errors='coerce')\n",
        "\n",
        "    # Check for any parsing errors\n",
        "    if df['date_cleaned'].isna().any():\n",
        "        print(\"Warning: Some dates could not be parsed. Check the following rows:\")\n",
        "        print(df[df['date_cleaned'].isna()][['date', 'date_cleaned']])\n",
        "\n",
        "    # Sort by cleaned date to ensure chronological order\n",
        "    df = df.sort_values(by='date_cleaned').reset_index(drop=True)\n",
        "\n",
        "    # Iterate through each match\n",
        "    for idx in range(len(df)):\n",
        "        home_team = df.loc[idx, 'Home Team Label']\n",
        "        away_team = df.loc[idx, 'Away Team Label']\n",
        "\n",
        "        # Compute points for home and away teams\n",
        "        df.loc[idx, 'Home_Team_Last_5_Points'] = compute_last_5_points(\n",
        "            home_team, idx, df, 'Home Team Label', 'Home Result'\n",
        "        )\n",
        "        df.loc[idx, 'Away_Team_Last_5_Points'] = compute_last_5_points(\n",
        "            away_team, idx, df, 'Away Team Label', 'Home Result'\n",
        "        )\n",
        "\n",
        "    # Drop the temporary cleaned date column (optional)\n",
        "    df = df.drop(columns=['date_cleaned'])\n",
        "\n",
        "    return df\n",
        "\n",
        "# Example usage\n",
        "# Assuming your DataFrame is called data_dropped\n",
        "data_dropped = add_last_5_points_columns(data_dropped)\n",
        "\n"
      ],
      "metadata": {
        "id": "42jWurb6TMbW"
      },
      "execution_count": null,
      "outputs": []
    },
    {
      "cell_type": "code",
      "source": [
        "# Display the first 10 rows to verify\n",
        "print(data_dropped.iloc[90:100, :].to_string())"
      ],
      "metadata": {
        "colab": {
          "base_uri": "https://localhost:8080/"
        },
        "id": "k4nnBrxSUQGS",
        "outputId": "58b688f4-4801-4e87-c184-b6c168752464"
      },
      "execution_count": null,
      "outputs": [
        {
          "output_type": "stream",
          "name": "stdout",
          "text": [
            "                 date   clock                 Home Team                Away Team  home_possessions  away_possessions  home_shots  away_shots  home_pass  away_pass  home_chances  away_chances Home Result  Home Team Label  Away Team Label  stadium_encoded  attendance_scaled  Home_Team_Last_5_Points  Away_Team_Last_5_Points\n",
            "90  15th October 2022  3:00pm                    Fulham              Bournemouth              68.9              31.1          19          10       84.8       69.8             0             2         Tie               17               10                2           0.303299                        6                        9\n",
            "91  15th October 2022  12:30p            Leicester City           Crystal Palace              53.1              46.9          14           8       85.1       82.9             1             0         Tie                1                3               17           0.414291                        3                        5\n",
            "92  16th October 2022  2:00pm               Aston Villa                  Chelsea              41.1              58.9          18           8       80.2       85.4             3             2        Loss                4               16               19           0.552696                        6                       12\n",
            "93  16th October 2022  2:00pm              Leeds United                  Arsenal              47.0              53.0          16           9       78.0       83.0             1             1        Loss                7                5                3           0.485797                        2                       12\n",
            "94  16th October 2022  2:00pm               Southampton          West Ham United              39.1              60.9          10          25       72.4       80.1             1             1         Tie                0               13               14           0.385977                        3                        7\n",
            "95  16th October 2022  4:30pm                 Liverpool          Manchester City              36.8              63.2          13          16       76.9       87.7             5             1         Win               19               12                1           0.705345                        8                       13\n",
            "96  16th October 2022  2:00pm         Manchester United         Newcastle United              63.0              37.0          15           9       81.1       72.1             2             0         Tie                9               11               11           0.975909                       12                        8\n",
            "97  18th October 2022  8:15pm            Crystal Palace  Wolverhampton Wanderers              51.3              48.7          14          10       82.4       79.4             2             2         Win                3               18               12           0.332579                        6                        6\n",
            "98  18th October 2022  7:30pm  Brighton and Hove Albion        Nottingham Forest              70.3              29.7          19           3       86.8       67.7             2             0         Tie               14                6                0           0.416475                        4                        1\n",
            "99  19th October 2022  8:15pm         Manchester United        Tottenham Hotspur              51.9              48.1          28           9       85.4       84.3             2             1         Win                9               15               11           0.975260                       10                       12\n"
          ]
        }
      ]
    },
    {
      "cell_type": "code",
      "source": [
        "data_with_last_five_form = data_dropped.copy()\n"
      ],
      "metadata": {
        "id": "Nx8CcQ3kUr8y"
      },
      "execution_count": null,
      "outputs": []
    },
    {
      "cell_type": "code",
      "source": [
        "\n",
        "data_with_last_five_form.to_csv('data_with_last_five_form.csv', index=False)\n"
      ],
      "metadata": {
        "id": "TRVGAMuZU2yU"
      },
      "execution_count": null,
      "outputs": []
    },
    {
      "cell_type": "code",
      "source": [
        "new_data = pd.read_csv('data_with_last_five_form.csv')"
      ],
      "metadata": {
        "id": "TNC2UMNyVLkR"
      },
      "execution_count": null,
      "outputs": []
    },
    {
      "cell_type": "code",
      "source": [
        "# prompt: # Let's scale the two columns Home_Team_Last_5_Points  Away_Team_Last_5_Points\n",
        "\n",
        "# Assuming 'data_with_last_five_form' is your DataFrame\n",
        "\n",
        "# Import the MinMaxScaler\n",
        "from sklearn.preprocessing import MinMaxScaler\n",
        "\n",
        "# Create a MinMaxScaler object\n",
        "scaler = MinMaxScaler()\n",
        "\n",
        "# Fit and transform the specified columns\n",
        "new_data[['Home_Team_Last_5_Points_Scaled', 'Away_Team_Last_5_Points_Scaled']] = scaler.fit_transform(new_data[['Home_Team_Last_5_Points', 'Away_Team_Last_5_Points']])\n",
        "\n",
        "# Display the first few rows to verify the scaling\n",
        "print(new_data[['Home_Team_Last_5_Points', 'Home_Team_Last_5_Points_Scaled', 'Away_Team_Last_5_Points', 'Away_Team_Last_5_Points_Scaled']].iloc[90:100, :])\n"
      ],
      "metadata": {
        "colab": {
          "base_uri": "https://localhost:8080/"
        },
        "id": "i2zJzzsLVDS8",
        "outputId": "6c6594e0-7093-446b-f826-a719f5c7a10c"
      },
      "execution_count": null,
      "outputs": [
        {
          "output_type": "stream",
          "name": "stdout",
          "text": [
            "    Home_Team_Last_5_Points  Home_Team_Last_5_Points_Scaled  \\\n",
            "90                        6                        0.400000   \n",
            "91                        3                        0.200000   \n",
            "92                        6                        0.400000   \n",
            "93                        2                        0.133333   \n",
            "94                        3                        0.200000   \n",
            "95                        8                        0.533333   \n",
            "96                       12                        0.800000   \n",
            "97                        6                        0.400000   \n",
            "98                        4                        0.266667   \n",
            "99                       10                        0.666667   \n",
            "\n",
            "    Away_Team_Last_5_Points  Away_Team_Last_5_Points_Scaled  \n",
            "90                        9                        0.600000  \n",
            "91                        5                        0.333333  \n",
            "92                       12                        0.800000  \n",
            "93                       12                        0.800000  \n",
            "94                        7                        0.466667  \n",
            "95                       13                        0.866667  \n",
            "96                        8                        0.533333  \n",
            "97                        6                        0.400000  \n",
            "98                        1                        0.066667  \n",
            "99                       12                        0.800000  \n"
          ]
        }
      ]
    },
    {
      "cell_type": "code",
      "source": [
        "print(new_data.iloc[90, :].to_string())"
      ],
      "metadata": {
        "colab": {
          "base_uri": "https://localhost:8080/"
        },
        "id": "eRCkGM-uVYqc",
        "outputId": "9da33b89-0bd7-458e-a0e9-e9f191f9410b"
      },
      "execution_count": null,
      "outputs": [
        {
          "output_type": "stream",
          "name": "stdout",
          "text": [
            "date                              15th October 2022\n",
            "clock                                        3:00pm\n",
            "Home Team                                    Fulham\n",
            "Away Team                               Bournemouth\n",
            "home_possessions                               68.9\n",
            "away_possessions                               31.1\n",
            "home_shots                                       19\n",
            "away_shots                                       10\n",
            "home_pass                                      84.8\n",
            "away_pass                                      69.8\n",
            "home_chances                                      0\n",
            "away_chances                                      2\n",
            "Home Result                                     Tie\n",
            "Home Team Label                                  17\n",
            "Away Team Label                                  10\n",
            "stadium_encoded                                   2\n",
            "attendance_scaled                          0.303299\n",
            "Home_Team_Last_5_Points                           6\n",
            "Away_Team_Last_5_Points                           9\n",
            "Home_Team_Last_5_Points_Scaled                  0.4\n",
            "Away_Team_Last_5_Points_Scaled                  0.6\n"
          ]
        }
      ]
    },
    {
      "cell_type": "code",
      "source": [
        "import pandas as pd\n",
        "import re\n",
        "\n",
        "# Function to remove ordinal suffixes from date strings\n",
        "def clean_date(date_str):\n",
        "    return re.sub(r'(\\d+)(st|nd|rd|th)', r'\\1', date_str)\n",
        "\n",
        "# Function to compute season average possession for a team\n",
        "def compute_season_avg_possession(team_label, match_index, df):\n",
        "    # Get all prior matches in the season before the current match\n",
        "    prior_matches = df.iloc[:match_index]\n",
        "\n",
        "    # Filter matches where the team was home or away\n",
        "    team_matches = prior_matches[\n",
        "        (prior_matches['Home Team Label'] == team_label) |\n",
        "        (prior_matches['Away Team Label'] == team_label)\n",
        "    ]\n",
        "\n",
        "    # Extract possession values\n",
        "    possession = []\n",
        "    for _, row in team_matches.iterrows():\n",
        "        if row['Home Team Label'] == team_label:\n",
        "            possession.append(row['home_possessions'])\n",
        "        else:\n",
        "            possession.append(row['away_possessions'])\n",
        "\n",
        "    # Compute average possession; return 50.0 if no prior matches\n",
        "    return sum(possession) / len(possession) if possession else 50.0\n",
        "\n",
        "# Main function to add season average possession columns\n",
        "def add_season_avg_possession_columns(df):\n",
        "    # Create new columns\n",
        "    df['Home_Team_Season_Avg_Possession'] = 0.0\n",
        "    df['Away_Team_Season_Avg_Possession'] = 0.0\n",
        "\n",
        "    # Clean and parse dates\n",
        "    df['date_cleaned'] = df['date'].apply(clean_date)\n",
        "    df['date_cleaned'] = pd.to_datetime(df['date_cleaned'], format='%d %B %Y', errors='coerce')\n",
        "\n",
        "    # Check for unparseable dates\n",
        "    if df['date_cleaned'].isna().any():\n",
        "        print(\"Warning: Unparseable dates found:\")\n",
        "        print(df[df['date_cleaned'].isna()][['date', 'date_cleaned']])\n",
        "\n",
        "    # Sort by date to ensure chronological order\n",
        "    df = df.sort_values(by='date_cleaned').reset_index(drop=True)\n",
        "\n",
        "    # Compute season average possession for each match\n",
        "    for idx in range(len(df)):\n",
        "        home_team = df.loc[idx, 'Home Team Label']\n",
        "        away_team = df.loc[idx, 'Away Team Label']\n",
        "\n",
        "        df.loc[idx, 'Home_Team_Season_Avg_Possession'] = compute_season_avg_possession(\n",
        "            home_team, idx, df\n",
        "        )\n",
        "        df.loc[idx, 'Away_Team_Season_Avg_Possession'] = compute_season_avg_possession(\n",
        "            away_team, idx, df\n",
        "        )\n",
        "\n",
        "    # Drop temporary cleaned date column\n",
        "    df = df.drop(columns=['date_cleaned'])\n",
        "\n",
        "    return df\n",
        "\n",
        "# Example usage\n",
        "# Assuming your DataFrame is called new_data\n",
        "new_data = add_season_avg_possession_columns(new_data)\n",
        "\n",
        "# Display row 90 to verify\n",
        "print(new_data.iloc[90, :].to_string())"
      ],
      "metadata": {
        "colab": {
          "base_uri": "https://localhost:8080/"
        },
        "id": "36mcr9L2YALA",
        "outputId": "d807e9b1-13bd-49a6-f3e5-3053ed2bb019"
      },
      "execution_count": null,
      "outputs": [
        {
          "output_type": "stream",
          "name": "stdout",
          "text": [
            "date                               15th October 2022\n",
            "clock                                         3:00pm\n",
            "Home Team                                     Fulham\n",
            "Away Team                                Bournemouth\n",
            "home_possessions                                68.9\n",
            "away_possessions                                31.1\n",
            "home_shots                                        19\n",
            "away_shots                                        10\n",
            "home_pass                                       84.8\n",
            "away_pass                                       69.8\n",
            "home_chances                                       0\n",
            "away_chances                                       2\n",
            "Home Result                                      Tie\n",
            "Home Team Label                                   17\n",
            "Away Team Label                                   10\n",
            "stadium_encoded                                    2\n",
            "attendance_scaled                           0.303299\n",
            "Home_Team_Last_5_Points                            6\n",
            "Away_Team_Last_5_Points                            9\n",
            "Home_Team_Last_5_Points_Scaled                   0.4\n",
            "Away_Team_Last_5_Points_Scaled                   0.6\n",
            "Home_Team_Season_Avg_Possession            41.444444\n",
            "Away_Team_Season_Avg_Possession            37.255556\n"
          ]
        }
      ]
    },
    {
      "cell_type": "code",
      "source": [
        "import pandas as pd\n",
        "import re\n",
        "\n",
        "# Function to remove ordinal suffixes from date strings\n",
        "def clean_date(date_str):\n",
        "    return re.sub(r'(\\d+)(st|nd|rd|th)', r'\\1', date_str)\n",
        "\n",
        "# Function to compute season average for a specific metric\n",
        "def compute_season_avg_metric(team_label, match_index, df, metric):\n",
        "    # Get all prior matches in the season before the current match\n",
        "    prior_matches = df.iloc[:match_index]\n",
        "\n",
        "    # Filter matches where the team was home or away\n",
        "    team_matches = prior_matches[\n",
        "        (prior_matches['Home Team Label'] == team_label) |\n",
        "        (prior_matches['Away Team Label'] == team_label)\n",
        "    ]\n",
        "\n",
        "    # Extract metric values\n",
        "    values = []\n",
        "    for _, row in team_matches.iterrows():\n",
        "        if row['Home Team Label'] == team_label:\n",
        "            values.append(row[f'home_{metric}'])\n",
        "        else:\n",
        "            values.append(row[f'away_{metric}'])\n",
        "\n",
        "    # Compute average; return default if no prior matches\n",
        "    if not values:\n",
        "        return 50.0 if metric == 'pass' else 0.0\n",
        "    return sum(values) / len(values)\n",
        "\n",
        "# Main function to add season average columns for shots, passes, and chances\n",
        "def add_season_avg_features(df):\n",
        "    # Create new columns\n",
        "    metrics = ['shots', 'pass', 'chances']\n",
        "    for metric in metrics:\n",
        "        df[f'Home_Team_Season_Avg_{metric.capitalize()}'] = 0.0\n",
        "        df[f'Away_Team_Season_Avg_{metric.capitalize()}'] = 0.0\n",
        "\n",
        "    # Clean and parse dates\n",
        "    df['date_cleaned'] = df['date'].apply(clean_date)\n",
        "    df['date_cleaned'] = pd.to_datetime(df['date_cleaned'], format='%d %B %Y', errors='coerce')\n",
        "\n",
        "    # Check for unparseable dates\n",
        "    if df['date_cleaned'].isna().any():\n",
        "        print(\"Warning: Unparseable dates found:\")\n",
        "        print(df[df['date_cleaned'].isna()][['date', 'date_cleaned']])\n",
        "\n",
        "    # Sort by date to ensure chronological order\n",
        "    df = df.sort_values(by='date_cleaned').reset_index(drop=True)\n",
        "\n",
        "    # Compute season averages for each match\n",
        "    for idx in range(len(df)):\n",
        "        home_team = df.loc[idx, 'Home Team Label']\n",
        "        away_team = df.loc[idx, 'Away Team Label']\n",
        "\n",
        "        for metric in metrics:\n",
        "            df.loc[idx, f'Home_Team_Season_Avg_{metric.capitalize()}'] = compute_season_avg_metric(\n",
        "                home_team, idx, df, metric\n",
        "            )\n",
        "            df.loc[idx, f'Away_Team_Season_Avg_{metric.capitalize()}'] = compute_season_avg_metric(\n",
        "                away_team, idx, df, metric\n",
        "            )\n",
        "\n",
        "    # Drop temporary cleaned date column\n",
        "    df = df.drop(columns=['date_cleaned'])\n",
        "\n",
        "    return df\n",
        "\n",
        "# Example usage\n",
        "# Assuming your DataFrame is called new_data\n",
        "new_data = add_season_avg_features(new_data)\n",
        "\n",
        "# Display row 90 to verify\n",
        "print(new_data.iloc[90, :].to_string())"
      ],
      "metadata": {
        "colab": {
          "base_uri": "https://localhost:8080/"
        },
        "id": "EiNTrAjtaqMy",
        "outputId": "82811aa2-a7d3-4b12-8444-e6b182e65c33"
      },
      "execution_count": null,
      "outputs": [
        {
          "output_type": "stream",
          "name": "stdout",
          "text": [
            "date                               15th October 2022\n",
            "clock                                         3:00pm\n",
            "Home Team                                     Fulham\n",
            "Away Team                                Bournemouth\n",
            "home_possessions                                68.9\n",
            "away_possessions                                31.1\n",
            "home_shots                                        19\n",
            "away_shots                                        10\n",
            "home_pass                                       84.8\n",
            "away_pass                                       69.8\n",
            "home_chances                                       0\n",
            "away_chances                                       2\n",
            "Home Result                                      Tie\n",
            "Home Team Label                                   17\n",
            "Away Team Label                                   10\n",
            "stadium_encoded                                    2\n",
            "attendance_scaled                           0.303299\n",
            "Home_Team_Last_5_Points                            6\n",
            "Away_Team_Last_5_Points                            9\n",
            "Home_Team_Last_5_Points_Scaled                   0.4\n",
            "Away_Team_Last_5_Points_Scaled                   0.6\n",
            "Home_Team_Season_Avg_Possession            41.444444\n",
            "Away_Team_Season_Avg_Possession            37.255556\n",
            "Home_Team_Season_Avg_Shots                 10.222222\n",
            "Away_Team_Season_Avg_Shots                  6.777778\n",
            "Home_Team_Season_Avg_Pass                  73.188889\n",
            "Away_Team_Season_Avg_Pass                  76.322222\n",
            "Home_Team_Season_Avg_Chances                0.888889\n",
            "Away_Team_Season_Avg_Chances                0.555556\n"
          ]
        }
      ]
    },
    {
      "cell_type": "code",
      "source": [
        "\n",
        "columns_to_drop = ['home_possessions', 'away_possessions', 'home_shots', 'away_shots', 'home_pass', 'away_pass', 'home_chances', 'away_chances', 'Home_Team_Last_5_Points','Away_Team_Last_5_Points' ]\n",
        "new_data = new_data.drop(columns=columns_to_drop)\n",
        "print(new_data.iloc[90, :].to_string())\n"
      ],
      "metadata": {
        "colab": {
          "base_uri": "https://localhost:8080/"
        },
        "id": "jUjIN443a7XX",
        "outputId": "de1689dc-e725-4b41-93db-ca3468406a9d"
      },
      "execution_count": null,
      "outputs": [
        {
          "output_type": "stream",
          "name": "stdout",
          "text": [
            "date                               15th October 2022\n",
            "clock                                         3:00pm\n",
            "Home Team                                     Fulham\n",
            "Away Team                                Bournemouth\n",
            "Home Result                                      Tie\n",
            "Home Team Label                                   17\n",
            "Away Team Label                                   10\n",
            "stadium_encoded                                    2\n",
            "attendance_scaled                           0.303299\n",
            "Home_Team_Last_5_Points_Scaled                   0.4\n",
            "Away_Team_Last_5_Points_Scaled                   0.6\n",
            "Home_Team_Season_Avg_Possession            41.444444\n",
            "Away_Team_Season_Avg_Possession            37.255556\n",
            "Home_Team_Season_Avg_Shots                 10.222222\n",
            "Away_Team_Season_Avg_Shots                  6.777778\n",
            "Home_Team_Season_Avg_Pass                  73.188889\n",
            "Away_Team_Season_Avg_Pass                  76.322222\n",
            "Home_Team_Season_Avg_Chances                0.888889\n",
            "Away_Team_Season_Avg_Chances                0.555556\n"
          ]
        }
      ]
    },
    {
      "cell_type": "code",
      "source": [
        "from sklearn.preprocessing import MinMaxScaler\n",
        "\n",
        "# Create a scaler object\n",
        "scaler = MinMaxScaler()\n",
        "\n",
        "# Specify the columns to scale\n",
        "columns_to_scale = [\n",
        "    'Home_Team_Season_Avg_Possession',\n",
        "    'Away_Team_Season_Avg_Possession',\n",
        "    'Home_Team_Season_Avg_Shots',\n",
        "    'Away_Team_Season_Avg_Shots',\n",
        "    'Home_Team_Season_Avg_Pass',\n",
        "    'Away_Team_Season_Avg_Pass',\n",
        "    'Home_Team_Season_Avg_Chances',\n",
        "    'Away_Team_Season_Avg_Chances'\n",
        "]\n",
        "\n",
        "# Create new scaled columns\n",
        "scaled_columns = [col + '_Scaled' for col in columns_to_scale]\n",
        "new_data[scaled_columns] = scaler.fit_transform(new_data[columns_to_scale])\n",
        "\n",
        "# Drop the original unscaled columns\n",
        "new_data = new_data.drop(columns=columns_to_scale)\n",
        "\n",
        "# Print row 90 to verify\n",
        "print(new_data.iloc[90, :].to_string())"
      ],
      "metadata": {
        "colab": {
          "base_uri": "https://localhost:8080/"
        },
        "id": "nnA8vA8ybChX",
        "outputId": "cb310d0f-150b-4ae7-dc01-519be015a212"
      },
      "execution_count": null,
      "outputs": [
        {
          "output_type": "stream",
          "name": "stdout",
          "text": [
            "date                                      15th October 2022\n",
            "clock                                                3:00pm\n",
            "Home Team                                            Fulham\n",
            "Away Team                                       Bournemouth\n",
            "Home Result                                             Tie\n",
            "Home Team Label                                          17\n",
            "Away Team Label                                          10\n",
            "stadium_encoded                                           2\n",
            "attendance_scaled                                  0.303299\n",
            "Home_Team_Last_5_Points_Scaled                          0.4\n",
            "Away_Team_Last_5_Points_Scaled                          0.6\n",
            "Home_Team_Season_Avg_Possession_Scaled             0.182778\n",
            "Away_Team_Season_Avg_Possession_Scaled             0.266713\n",
            "Home_Team_Season_Avg_Shots_Scaled                  0.524217\n",
            "Away_Team_Season_Avg_Shots_Scaled                  0.294686\n",
            "Home_Team_Season_Avg_Pass_Scaled                   0.540534\n",
            "Away_Team_Season_Avg_Pass_Scaled                   0.611434\n",
            "Home_Team_Season_Avg_Chances_Scaled                0.237037\n",
            "Away_Team_Season_Avg_Chances_Scaled                0.144928\n"
          ]
        }
      ]
    },
    {
      "cell_type": "markdown",
      "source": [
        "Now, let's calculate the rest days, days between matches for each team\n"
      ],
      "metadata": {
        "id": "uCOwbAxAw-Um"
      }
    },
    {
      "cell_type": "code",
      "source": [
        "import pandas as pd\n",
        "import re\n",
        "from datetime import timedelta\n",
        "\n",
        "# Function to remove ordinal suffixes from date strings\n",
        "def clean_date(date_str):\n",
        "    return re.sub(r'(\\d+)(st|nd|rd|th)', r'\\1', date_str)\n",
        "\n",
        "# Function to compute days since last match for a team\n",
        "def compute_rest_days(team_label, match_index, current_date, df):\n",
        "    # Get all prior matches before the current match\n",
        "    prior_matches = df.iloc[:match_index]\n",
        "\n",
        "    # Filter matches where the team was home or away\n",
        "    team_matches = prior_matches[\n",
        "        (prior_matches['Home Team Label'] == team_label) |\n",
        "        (prior_matches['Away Team Label'] == team_label)\n",
        "    ]\n",
        "\n",
        "    # If no prior matches, return default rest days (e.g., 14 days)\n",
        "    if team_matches.empty:\n",
        "        return 14.0\n",
        "\n",
        "    # Get the most recent match date\n",
        "    last_match_date = team_matches['date_cleaned'].max()\n",
        "\n",
        "    # Calculate days difference\n",
        "    rest_days = (current_date - last_match_date).days\n",
        "\n",
        "    return float(rest_days)\n",
        "\n",
        "# Main function to add rest days columns\n",
        "def add_rest_days_columns(df):\n",
        "    # Create new columns\n",
        "    df['Rest_Days_Home'] = 0.0\n",
        "    df['Rest_Days_Away'] = 0.0\n",
        "\n",
        "    # Clean and parse dates\n",
        "    df['date_cleaned'] = df['date'].apply(clean_date)\n",
        "    df['date_cleaned'] = pd.to_datetime(df['date_cleaned'], format='%d %B %Y', errors='coerce')\n",
        "\n",
        "    # Check for unparseable dates\n",
        "    if df['date_cleaned'].isna().any():\n",
        "        print(\"Warning: Unparseable dates found:\")\n",
        "        print(df[df['date_cleaned'].isna()][['date', 'date_cleaned']])\n",
        "        # Optionally, handle NaT by filling with a default date or skipping\n",
        "        df['date_cleaned'] = df['date_cleaned'].fillna(pd.Timestamp('2022-08-01'))\n",
        "\n",
        "    # Sort by date to ensure chronological order\n",
        "    df = df.sort_values(by='date_cleaned').reset_index(drop=True)\n",
        "\n",
        "    # Compute rest days for each match\n",
        "    for idx in range(len(df)):\n",
        "        home_team = df.loc[idx, 'Home Team Label']\n",
        "        away_team = df.loc[idx, 'Away Team Label']\n",
        "        current_date = df.loc[idx, 'date_cleaned']\n",
        "\n",
        "        df.loc[idx, 'Rest_Days_Home'] = compute_rest_days(\n",
        "            home_team, idx, current_date, df\n",
        "        )\n",
        "        df.loc[idx, 'Rest_Days_Away'] = compute_rest_days(\n",
        "            away_team, idx, current_date, df\n",
        "        )\n",
        "\n",
        "    # Drop temporary cleaned date column\n",
        "    df = df.drop(columns=['date_cleaned'])\n",
        "\n",
        "    return df\n",
        "\n",
        "# Example usage\n",
        "# Assuming your DataFrame is called new_data\n",
        "new_data = add_rest_days_columns(new_data)\n",
        "\n"
      ],
      "metadata": {
        "id": "oFeZnIZN2RWY"
      },
      "execution_count": null,
      "outputs": []
    },
    {
      "cell_type": "code",
      "source": [
        "# Display the sample record to verify\n",
        "print(new_data.iloc[90, :].to_string())"
      ],
      "metadata": {
        "colab": {
          "base_uri": "https://localhost:8080/"
        },
        "id": "ST0Qy_YRxrXa",
        "outputId": "ed50245e-962a-41f6-c424-54737f8286b6"
      },
      "execution_count": null,
      "outputs": [
        {
          "output_type": "stream",
          "name": "stdout",
          "text": [
            "date                                      15th October 2022\n",
            "clock                                                3:00pm\n",
            "Home Team                                            Fulham\n",
            "Away Team                                       Bournemouth\n",
            "Home Result                                             Tie\n",
            "Home Team Label                                          17\n",
            "Away Team Label                                          10\n",
            "stadium_encoded                                           2\n",
            "attendance_scaled                                  0.303299\n",
            "Home_Team_Last_5_Points_Scaled                          0.4\n",
            "Away_Team_Last_5_Points_Scaled                          0.6\n",
            "Home_Team_Season_Avg_Possession_Scaled             0.182778\n",
            "Away_Team_Season_Avg_Possession_Scaled             0.266713\n",
            "Home_Team_Season_Avg_Shots_Scaled                  0.524217\n",
            "Away_Team_Season_Avg_Shots_Scaled                  0.294686\n",
            "Home_Team_Season_Avg_Pass_Scaled                   0.540534\n",
            "Away_Team_Season_Avg_Pass_Scaled                   0.611434\n",
            "Home_Team_Season_Avg_Chances_Scaled                0.237037\n",
            "Away_Team_Season_Avg_Chances_Scaled                0.144928\n",
            "Rest_Days_Home                                          6.0\n",
            "Rest_Days_Away                                          7.0\n"
          ]
        }
      ]
    },
    {
      "cell_type": "code",
      "source": [
        "import json\n",
        "\n",
        "# Function to create name-to-ID mapping from all_england_teams.json\n",
        "def create_team_name_to_id_mapping(input_json_path, output_json_path):\n",
        "    # Load the all_england_teams.json file\n",
        "    try:\n",
        "        with open(input_json_path, 'r') as file:\n",
        "            data = json.load(file)\n",
        "    except FileNotFoundError:\n",
        "        print(f\"Error: File {input_json_path} not found.\")\n",
        "        return {}\n",
        "    except json.JSONDecodeError:\n",
        "        print(f\"Error: Invalid JSON format in {input_json_path}.\")\n",
        "        return {}\n",
        "\n",
        "    # Extract teams list\n",
        "    teams = data.get('teams', [])\n",
        "    if not teams:\n",
        "        print(\"Error: No teams found in the JSON file.\")\n",
        "        return {}\n",
        "\n",
        "    # Create mapping dictionary\n",
        "    name_to_id = {team['name']: team['id'] for team in teams}\n",
        "\n",
        "    # Save mapping to output JSON file\n",
        "    try:\n",
        "        with open(output_json_path, 'w') as file:\n",
        "            json.dump(name_to_id, file, indent=4)\n",
        "        print(f\"Mapping saved to {output_json_path}\")\n",
        "    except Exception as e:\n",
        "        print(f\"Error saving mapping to {output_json_path}: {e}\")\n",
        "\n",
        "    return name_to_id\n",
        "\n",
        "# Function to get team ID by name\n",
        "def get_team_id(team_name, mapping=None, mapping_file='team_name_to_id.json'):\n",
        "    # Load mapping from file if not provided\n",
        "    if mapping is None:\n",
        "        try:\n",
        "            with open(mapping_file, 'r') as file:\n",
        "                mapping = json.load(file)\n",
        "        except FileNotFoundError:\n",
        "            print(f\"Error: Mapping file {mapping_file} not found.\")\n",
        "            return None\n",
        "        except json.JSONDecodeError:\n",
        "            print(f\"Error: Invalid JSON format in {mapping_file}.\")\n",
        "            return None\n",
        "\n",
        "    # Return team ID or None if not found\n",
        "    team_id = mapping.get(team_name)\n",
        "    if team_id is None:\n",
        "        print(f\"Warning: Team '{team_name}' not found in mapping.\")\n",
        "    return team_id\n",
        "\n",
        "# Main execution\n",
        "if __name__ == \"__main__\":\n",
        "    # Paths to input and output JSON files\n",
        "    input_json_path = 'all_england_teams.json'\n",
        "    output_json_path = 'team_name_to_id.json'\n",
        "\n",
        "    # Create and save the mapping\n",
        "    name_to_id_mapping = create_team_name_to_id_mapping(input_json_path, output_json_path)\n",
        "\n",
        "    # Test the get_team_id function\n",
        "    test_teams = ['Fulham', 'Bournemouth', 'Liverpool']\n",
        "    for team in test_teams:\n",
        "        team_id = get_team_id(team, mapping=name_to_id_mapping)\n",
        "        print(f\"Team: {team}, Sportmonks ID: {team_id}\")"
      ],
      "metadata": {
        "colab": {
          "base_uri": "https://localhost:8080/"
        },
        "id": "QdtXN9NR8Rh0",
        "outputId": "fe54ef81-5113-4d72-c1c4-10d8942ba9d7"
      },
      "execution_count": null,
      "outputs": [
        {
          "output_type": "stream",
          "name": "stdout",
          "text": [
            "Mapping saved to team_name_to_id.json\n",
            "Team: Fulham, Sportmonks ID: 11\n",
            "Warning: Team 'Bournemouth' not found in mapping.\n",
            "Team: Bournemouth, Sportmonks ID: None\n",
            "Team: Liverpool, Sportmonks ID: 8\n"
          ]
        }
      ]
    },
    {
      "cell_type": "code",
      "source": [
        "print(new_data.iloc[90, :].to_string())"
      ],
      "metadata": {
        "colab": {
          "base_uri": "https://localhost:8080/"
        },
        "id": "hRFIFM-R9Y5G",
        "outputId": "a2de0be1-d5b9-424f-f714-d9da8197dbe7"
      },
      "execution_count": null,
      "outputs": [
        {
          "output_type": "stream",
          "name": "stdout",
          "text": [
            "date                                      15th October 2022\n",
            "clock                                                3:00pm\n",
            "Home Team                                            Fulham\n",
            "Away Team                                       Bournemouth\n",
            "Home Result                                             Tie\n",
            "Home Team Label                                          17\n",
            "Away Team Label                                          10\n",
            "stadium_encoded                                           2\n",
            "attendance_scaled                                  0.303299\n",
            "Home_Team_Last_5_Points_Scaled                          0.4\n",
            "Away_Team_Last_5_Points_Scaled                          0.6\n",
            "Home_Team_Season_Avg_Possession_Scaled             0.182778\n",
            "Away_Team_Season_Avg_Possession_Scaled             0.266713\n",
            "Home_Team_Season_Avg_Shots_Scaled                  0.524217\n",
            "Away_Team_Season_Avg_Shots_Scaled                  0.294686\n",
            "Home_Team_Season_Avg_Pass_Scaled                   0.540534\n",
            "Away_Team_Season_Avg_Pass_Scaled                   0.611434\n",
            "Home_Team_Season_Avg_Chances_Scaled                0.237037\n",
            "Away_Team_Season_Avg_Chances_Scaled                0.144928\n",
            "Rest_Days_Home                                          6.0\n",
            "Rest_Days_Away                                          7.0\n"
          ]
        }
      ]
    },
    {
      "cell_type": "code",
      "source": [
        "import pandas as pd\n",
        "import json\n",
        "\n",
        "# Function to load team name to ID mapping\n",
        "def load_team_name_to_id_mapping(mapping_file='team_name_to_id.json'):\n",
        "    try:\n",
        "        with open(mapping_file, 'r') as file:\n",
        "            mapping = json.load(file)\n",
        "        return mapping\n",
        "    except FileNotFoundError:\n",
        "        print(f\"Error: Mapping file {mapping_file} not found.\")\n",
        "        return {}\n",
        "    except json.JSONDecodeError:\n",
        "        print(f\"Error: Invalid JSON format in {mapping_file}.\")\n",
        "        return {}\n",
        "\n",
        "# Function to find non-matching team names\n",
        "def find_non_matching_teams(df, mapping_file='team_name_to_id.json'):\n",
        "    # Load the mapping\n",
        "    name_to_id = load_team_name_to_id_mapping(mapping_file)\n",
        "\n",
        "    if not name_to_id:\n",
        "        print(\"Error: No mapping loaded. Cannot proceed.\")\n",
        "        return []\n",
        "\n",
        "    # Get unique team names from dataset\n",
        "    team_names = set(df['Home Team'].dropna()).union(set(df['Away Team'].dropna()))\n",
        "\n",
        "    # Find non-matching teams\n",
        "    json_team_names = set(name_to_id.keys())\n",
        "    non_matching_teams = sorted([team for team in team_names if team not in json_team_names])\n",
        "\n",
        "    # Print results\n",
        "    if non_matching_teams:\n",
        "        print(\"Non-matching team names found in dataset (not in team_name_to_id.json):\")\n",
        "        for team in non_matching_teams:\n",
        "            print(f\"- {team}\")\n",
        "        print(f\"\\nTotal non-matching teams: {len(non_matching_teams)}\")\n",
        "    else:\n",
        "        print(\"All team names in dataset match keys in team_name_to_id.json.\")\n",
        "\n",
        "    return non_matching_teams\n",
        "\n",
        "# Example usage\n",
        "# Assuming your DataFrame is called new_data\n",
        "non_matching_teams = find_non_matching_teams(new_data)\n",
        "\n",
        "# Suggest manual mapping for non-matching teams\n",
        "if non_matching_teams:\n",
        "    print(\"\\nSuggested next steps:\")\n",
        "    print(\"1. Create a manual mapping dictionary for these teams, e.g.:\")\n",
        "    print(\"manual_mapping = {\")\n",
        "    for team in non_matching_teams:\n",
        "        print(f\"    '{team}': <Sportmonks_ID>,  # e.g., 'AFC Bournemouth' or similar\")\n",
        "    print(\"}\")\n",
        "    print(\"2. Update team_name_to_id.json with these mappings or apply them in your script.\")"
      ],
      "metadata": {
        "colab": {
          "base_uri": "https://localhost:8080/"
        },
        "id": "qA8HR-xv-DWP",
        "outputId": "63052c75-81a2-4507-a425-14d5224c15cc"
      },
      "execution_count": null,
      "outputs": [
        {
          "output_type": "stream",
          "name": "stdout",
          "text": [
            "Non-matching team names found in dataset (not in team_name_to_id.json):\n",
            "- Bournemouth\n",
            "- Brighton and Hove Albion\n",
            "\n",
            "Total non-matching teams: 2\n",
            "\n",
            "Suggested next steps:\n",
            "1. Create a manual mapping dictionary for these teams, e.g.:\n",
            "manual_mapping = {\n",
            "    'Bournemouth': <Sportmonks_ID>,  # e.g., 'AFC Bournemouth' or similar\n",
            "    'Brighton and Hove Albion': <Sportmonks_ID>,  # e.g., 'AFC Bournemouth' or similar\n",
            "}\n",
            "2. Update team_name_to_id.json with these mappings or apply them in your script.\n"
          ]
        }
      ]
    },
    {
      "cell_type": "code",
      "source": [
        "import pandas as pd\n",
        "import json\n",
        "\n",
        "# Function to load team name to ID mapping\n",
        "def load_team_name_to_id_mapping(mapping_file='team_name_to_id.json'):\n",
        "    try:\n",
        "        with open(mapping_file, 'r') as file:\n",
        "            mapping = json.load(file)\n",
        "        return mapping\n",
        "    except FileNotFoundError:\n",
        "        print(f\"Error: Mapping file {mapping_file} not found.\")\n",
        "        return {}\n",
        "    except json.JSONDecodeError:\n",
        "        print(f\"Error: Invalid JSON format in {mapping_file}.\")\n",
        "        return {}\n",
        "\n",
        "# Function to update team names and IDs, and save to CSV\n",
        "def update_team_names_and_ids(df, mapping_file='team_name_to_id.json', output_csv='updated_dataset.csv'):\n",
        "    # Define manual mappings for non-matching teams\n",
        "    manual_id_mapping = {\n",
        "        'Bournemouth': 52,  # Maps to AFC Bournemouth\n",
        "        'Brighton and Hove Albion': 78  # Maps to Brighton & Hove Albion\n",
        "    }\n",
        "    manual_name_mapping = {\n",
        "        'Bournemouth': 'AFC Bournemouth',\n",
        "        'Brighton and Hove Albion': 'Brighton & Hove Albion'\n",
        "    }\n",
        "\n",
        "    # Load the team_name_to_id mapping\n",
        "    name_to_id = load_team_name_to_id_mapping(mapping_file)\n",
        "\n",
        "    if not name_to_id:\n",
        "        print(\"Error: No mapping loaded. Cannot proceed.\")\n",
        "        return df\n",
        "\n",
        "    # Update team names in Home Team and Away Team columns\n",
        "    df['Home Team'] = df['Home Team'].replace(manual_name_mapping)\n",
        "    df['Away Team'] = df['Away Team'].replace(manual_name_mapping)\n",
        "\n",
        "    # Create a full ID mapping by combining team_name_to_id.json and manual mappings\n",
        "    # Use API-standard names (e.g., AFC Bournemouth) for consistency\n",
        "    full_id_mapping = name_to_id.copy()\n",
        "    for old_name, new_name in manual_name_mapping.items():\n",
        "        full_id_mapping[new_name] = manual_id_mapping[old_name]\n",
        "\n",
        "    # Create new ID columns by mapping team names\n",
        "    df['Home_Team_ID'] = df['Home Team'].map(full_id_mapping)\n",
        "    df['Away_Team_ID'] = df['Away Team'].map(full_id_mapping)\n",
        "\n",
        "    # Check for unmapped teams\n",
        "    unmapped_home = df[df['Home_Team_ID'].isna()]['Home Team'].unique()\n",
        "    unmapped_away = df[df['Away_Team_ID'].isna()]['Away Team'].unique()\n",
        "    if unmapped_home.size > 0:\n",
        "        print(f\"Warning: Unmapped home teams: {unmapped_home}\")\n",
        "    if unmapped_away.size > 0:\n",
        "        print(f\"Warning: Unmapped away teams: {unmapped_away}\")\n",
        "\n",
        "    # Drop the old label columns\n",
        "    df = df.drop(columns=['Home Team Label', 'Away Team Label'])\n",
        "\n",
        "    # Save the updated DataFrame to a CSV file\n",
        "    try:\n",
        "        df.to_csv(output_csv, index=False)\n",
        "        print(f\"Updated dataset saved to {output_csv}\")\n",
        "    except Exception as e:\n",
        "        print(f\"Error saving to {output_csv}: {e}\")\n",
        "\n",
        "    return df\n",
        "\n",
        "# Example usage\n",
        "# Assuming your DataFrame is called new_data\n",
        "new_data = update_team_names_and_ids(new_data)\n",
        "\n",
        "# Display row 90 to verify\n",
        "print(new_data.iloc[90, :].to_string())"
      ],
      "metadata": {
        "colab": {
          "base_uri": "https://localhost:8080/"
        },
        "id": "5fZgjMzGAaCR",
        "outputId": "0487b7a6-b20b-473c-b33f-03de1739aa59"
      },
      "execution_count": null,
      "outputs": [
        {
          "output_type": "stream",
          "name": "stdout",
          "text": [
            "Updated dataset saved to updated_dataset.csv\n",
            "date                                      15th October 2022\n",
            "clock                                                3:00pm\n",
            "Home Team                                            Fulham\n",
            "Away Team                                   AFC Bournemouth\n",
            "Home Result                                             Tie\n",
            "stadium_encoded                                           2\n",
            "attendance_scaled                                  0.303299\n",
            "Home_Team_Last_5_Points_Scaled                          0.4\n",
            "Away_Team_Last_5_Points_Scaled                          0.6\n",
            "Home_Team_Season_Avg_Possession_Scaled             0.182778\n",
            "Away_Team_Season_Avg_Possession_Scaled             0.266713\n",
            "Home_Team_Season_Avg_Shots_Scaled                  0.524217\n",
            "Away_Team_Season_Avg_Shots_Scaled                  0.294686\n",
            "Home_Team_Season_Avg_Pass_Scaled                   0.540534\n",
            "Away_Team_Season_Avg_Pass_Scaled                   0.611434\n",
            "Home_Team_Season_Avg_Chances_Scaled                0.237037\n",
            "Away_Team_Season_Avg_Chances_Scaled                0.144928\n",
            "Rest_Days_Home                                          6.0\n",
            "Rest_Days_Away                                          7.0\n",
            "Home_Team_ID                                             11\n",
            "Away_Team_ID                                             52\n"
          ]
        }
      ]
    },
    {
      "cell_type": "code",
      "source": [
        "import pandas as pd\n",
        "import requests\n",
        "from functools import lru_cache\n",
        "import re\n",
        "\n",
        "# Replace with your Sportmonks API token\n",
        "API_TOKEN = \"NyIMmmpuRnl1ZymyTnli83taxZCiT4yrCxUB6VsIfBQwmUFBDPZ6yf9IQ63f\"\n",
        "\n",
        "# Memoized function to fetch head-to-head fixtures\n",
        "@lru_cache(maxsize=1000)\n",
        "def get_head_to_head_fixtures(team_id_1, team_id_2):\n",
        "    url = f\"https://api.sportmonks.com/v3/football/fixtures/head-to-head/{team_id_1}/{team_id_2}?api_token={API_TOKEN}\"\n",
        "    headers = {\n",
        "        \"Content-Type\": \"application/json\",\n",
        "        \"Accept\": \"application/json\",\n",
        "        \"Authorization\": API_TOKEN\n",
        "    }\n",
        "    try:\n",
        "        response = requests.get(url, headers=headers)\n",
        "        response.raise_for_status()\n",
        "        return response.json().get(\"data\", [])\n",
        "    except requests.RequestException as e:\n",
        "        print(f\"Error fetching data for team IDs {team_id_1} vs {team_id_2}: {e}\")\n",
        "        return []\n",
        "\n",
        "# Function to parse head-to-head stats\n",
        "def parse_head_to_head_stats(fixtures, home_team_name, away_team_name):\n",
        "    total_fixtures = 0\n",
        "    home_wins = 0\n",
        "    away_wins = 0\n",
        "    draws = 0\n",
        "\n",
        "    for fixture in fixtures:\n",
        "        total_fixtures += 1\n",
        "        result_info = fixture.get(\"result_info\", \"\")\n",
        "        fixture_name = fixture.get(\"name\", \"\")\n",
        "\n",
        "        # Determine home and away teams from fixture name (e.g., \"Fulham vs AFC Bournemouth\")\n",
        "        teams = fixture_name.split(\" vs \")\n",
        "        if len(teams) != 2:\n",
        "            continue\n",
        "        fixture_home_team = teams[0].strip()\n",
        "        fixture_away_team = teams[1].strip()\n",
        "\n",
        "        # Normalize team names for comparison\n",
        "        home_team_normalized = home_team_name.strip().lower()\n",
        "        away_team_normalized = away_team_name.strip().lower()\n",
        "        fixture_home_normalized = fixture_home_team.lower()\n",
        "        fixture_away_normalized = fixture_away_team.lower()\n",
        "\n",
        "        # Check result_info for outcome\n",
        "        if \"draw\" in result_info.lower():\n",
        "            draws += 1\n",
        "        elif \"won\" in result_info.lower():\n",
        "            # Extract winner from result_info\n",
        "            winner = re.search(r\"(.+?) won\", result_info)\n",
        "            if winner:\n",
        "                winner_name = winner.group(1).strip().lower()\n",
        "                if winner_name == fixture_home_normalized:\n",
        "                    if fixture_home_normalized == home_team_normalized:\n",
        "                        home_wins += 1\n",
        "                    else:\n",
        "                        away_wins += 1\n",
        "                elif winner_name == fixture_away_normalized:\n",
        "                    if fixture_away_normalized == home_team_normalized:\n",
        "                        home_wins += 1\n",
        "                    else:\n",
        "                        away_wins += 1\n",
        "\n",
        "    return {\n",
        "        \"num_previous_fixtures\": total_fixtures,\n",
        "        \"num_home_wins\": home_wins,\n",
        "        \"num_away_wins\": away_wins,\n",
        "        \"num_draws\": draws\n",
        "    }\n",
        "\n",
        "# Load dataset\n",
        "df = pd.read_csv(\"updated_dataset.csv\")\n",
        "\n",
        "# Lists to store new columns\n",
        "num_previous_fixtures = []\n",
        "num_home_wins = []\n",
        "num_away_wins = []\n",
        "num_draws = []\n",
        "\n",
        "# Process each record\n",
        "for index, row in df.iterrows():\n",
        "    home_team_id = row[\"Home_Team_ID\"]\n",
        "    away_team_id = row[\"Away_Team_ID\"]\n",
        "    home_team_name = row[\"Home Team\"]\n",
        "    away_team_name = row[\"Away Team\"]\n",
        "\n",
        "    # Fetch head-to-head fixtures (memoized)\n",
        "    fixtures = get_head_to_head_fixtures(home_team_id, away_team_id)\n",
        "\n",
        "    # Parse stats\n",
        "    stats = parse_head_to_head_stats(fixtures, home_team_name, away_team_name)\n",
        "\n",
        "    # Append stats to lists\n",
        "    num_previous_fixtures.append(stats[\"num_previous_fixtures\"])\n",
        "    num_home_wins.append(stats[\"num_home_wins\"])\n",
        "    num_away_wins.append(stats[\"num_away_wins\"])\n",
        "    num_draws.append(stats[\"num_draws\"])\n",
        "\n",
        "# Add new columns to DataFrame\n",
        "df[\"Num_Previous_Fixtures\"] = num_previous_fixtures\n",
        "df[\"Num_Home_Wins\"] = num_home_wins\n",
        "df[\"Num_Away_Wins\"] = num_away_wins\n",
        "df[\"Num_Draws\"] = num_draws\n",
        "\n",
        "# Save to new CSV\n",
        "df.to_csv(\"new_data_with_head_to_head_stats.csv\", index=False)\n",
        "print(\"Updated dataset with head-to-head stats saved to new_data_with_head_to_head_stats.csv\")"
      ],
      "metadata": {
        "colab": {
          "base_uri": "https://localhost:8080/",
          "height": 1000
        },
        "id": "4BjtGecgCnuQ",
        "outputId": "f38c6e56-631f-4b5a-a32d-e2793e711db7"
      },
      "execution_count": null,
      "outputs": [
        {
          "output_type": "stream",
          "name": "stderr",
          "text": [
            "ERROR:root:Internal Python error in the inspect module.\n",
            "Below is the traceback from this internal error.\n",
            "\n"
          ]
        },
        {
          "output_type": "stream",
          "name": "stdout",
          "text": [
            "Traceback (most recent call last):\n",
            "  File \"/usr/local/lib/python3.11/dist-packages/IPython/core/interactiveshell.py\", line 3553, in run_code\n",
            "    exec(code_obj, self.user_global_ns, self.user_ns)\n",
            "  File \"<ipython-input-71-60dcd0013de0>\", line 94, in <cell line: 0>\n",
            "    fixtures = get_head_to_head_fixtures(home_team_id, away_team_id)\n",
            "               ^^^^^^^^^^^^^^^^^^^^^^^^^^^^^^^^^^^^^^^^^^^^^^^^^^^^^\n",
            "  File \"<ipython-input-71-60dcd0013de0>\", line 19, in get_head_to_head_fixtures\n",
            "    response = requests.get(url, headers=headers)\n",
            "               ^^^^^^^^^^^^^^^^^^^^^^^^^^^^^^^^^^\n",
            "  File \"/usr/local/lib/python3.11/dist-packages/requests/api.py\", line 73, in get\n",
            "    return request(\"get\", url, params=params, **kwargs)\n",
            "           ^^^^^^^^^^^^^^^^^^^^^^^^^^^^^^^^^^^^^^^^^^^^\n",
            "  File \"/usr/local/lib/python3.11/dist-packages/requests/api.py\", line 59, in request\n",
            "    return session.request(method=method, url=url, **kwargs)\n",
            "           ^^^^^^^^^^^^^^^^^^^^^^^^^^^^^^^^^^^^^^^^^^^^^^^^^\n",
            "  File \"/usr/local/lib/python3.11/dist-packages/requests/sessions.py\", line 589, in request\n",
            "    resp = self.send(prep, **send_kwargs)\n",
            "           ^^^^^^^^^^^^^^^^^^^^^^^^^^^^^^\n",
            "  File \"/usr/local/lib/python3.11/dist-packages/requests/sessions.py\", line 703, in send\n",
            "    r = adapter.send(request, **kwargs)\n",
            "        ^^^^^^^^^^^^^^^^^^^^^^^^^^^^^^^\n",
            "  File \"/usr/local/lib/python3.11/dist-packages/requests/adapters.py\", line 667, in send\n",
            "    resp = conn.urlopen(\n",
            "           ^^^^^^^^^^^^^\n",
            "  File \"/usr/local/lib/python3.11/dist-packages/urllib3/connectionpool.py\", line 787, in urlopen\n",
            "    response = self._make_request(\n",
            "               ^^^^^^^^^^^^^^^^^^^\n",
            "  File \"/usr/local/lib/python3.11/dist-packages/urllib3/connectionpool.py\", line 534, in _make_request\n",
            "    response = conn.getresponse()\n",
            "               ^^^^^^^^^^^^^^^^^^\n",
            "  File \"/usr/local/lib/python3.11/dist-packages/urllib3/connection.py\", line 516, in getresponse\n",
            "    httplib_response = super().getresponse()\n",
            "                       ^^^^^^^^^^^^^^^^^^^^^\n",
            "  File \"/usr/lib/python3.11/http/client.py\", line 1395, in getresponse\n",
            "    response.begin()\n",
            "  File \"/usr/lib/python3.11/http/client.py\", line 325, in begin\n",
            "    version, status, reason = self._read_status()\n",
            "                              ^^^^^^^^^^^^^^^^^^^\n",
            "  File \"/usr/lib/python3.11/http/client.py\", line 286, in _read_status\n",
            "    line = str(self.fp.readline(_MAXLINE + 1), \"iso-8859-1\")\n",
            "               ^^^^^^^^^^^^^^^^^^^^^^^^^^^^^^\n",
            "  File \"/usr/lib/python3.11/socket.py\", line 718, in readinto\n",
            "    return self._sock.recv_into(b)\n",
            "           ^^^^^^^^^^^^^^^^^^^^^^^\n",
            "  File \"/usr/lib/python3.11/ssl.py\", line 1314, in recv_into\n",
            "    return self.read(nbytes, buffer)\n",
            "           ^^^^^^^^^^^^^^^^^^^^^^^^^\n",
            "  File \"/usr/lib/python3.11/ssl.py\", line 1166, in read\n",
            "    return self._sslobj.read(len, buffer)\n",
            "           ^^^^^^^^^^^^^^^^^^^^^^^^^^^^^^\n",
            "KeyboardInterrupt\n",
            "\n",
            "During handling of the above exception, another exception occurred:\n",
            "\n",
            "Traceback (most recent call last):\n",
            "  File \"/usr/local/lib/python3.11/dist-packages/IPython/core/interactiveshell.py\", line 2099, in showtraceback\n",
            "    stb = value._render_traceback_()\n",
            "          ^^^^^^^^^^^^^^^^^^^^^^^^\n",
            "AttributeError: 'KeyboardInterrupt' object has no attribute '_render_traceback_'\n",
            "\n",
            "During handling of the above exception, another exception occurred:\n",
            "\n",
            "Traceback (most recent call last):\n",
            "  File \"/usr/local/lib/python3.11/dist-packages/IPython/core/ultratb.py\", line 1101, in get_records\n",
            "    return _fixed_getinnerframes(etb, number_of_lines_of_context, tb_offset)\n",
            "           ^^^^^^^^^^^^^^^^^^^^^^^^^^^^^^^^^^^^^^^^^^^^^^^^^^^^^^^^^^^^^^^^^\n",
            "  File \"/usr/local/lib/python3.11/dist-packages/IPython/core/ultratb.py\", line 248, in wrapped\n",
            "    return f(*args, **kwargs)\n",
            "           ^^^^^^^^^^^^^^^^^^\n",
            "  File \"/usr/local/lib/python3.11/dist-packages/IPython/core/ultratb.py\", line 281, in _fixed_getinnerframes\n",
            "    records = fix_frame_records_filenames(inspect.getinnerframes(etb, context))\n",
            "                                          ^^^^^^^^^^^^^^^^^^^^^^^^^^^^^^^^^^^^\n",
            "  File \"/usr/lib/python3.11/inspect.py\", line 1739, in getinnerframes\n",
            "    traceback_info = getframeinfo(tb, context)\n",
            "                     ^^^^^^^^^^^^^^^^^^^^^^^^^\n",
            "  File \"/usr/lib/python3.11/inspect.py\", line 1688, in getframeinfo\n",
            "    lines, lnum = findsource(frame)\n",
            "                  ^^^^^^^^^^^^^^^^^\n",
            "  File \"/usr/local/lib/python3.11/dist-packages/IPython/core/ultratb.py\", line 170, in findsource\n",
            "    file = getsourcefile(object) or getfile(object)\n",
            "           ^^^^^^^^^^^^^^^^^^^^^\n",
            "  File \"/usr/lib/python3.11/inspect.py\", line 948, in getsourcefile\n",
            "    module = getmodule(object, filename)\n",
            "             ^^^^^^^^^^^^^^^^^^^^^^^^^^^\n",
            "  File \"/usr/lib/python3.11/inspect.py\", line None, in getmodule\n",
            "KeyboardInterrupt\n"
          ]
        },
        {
          "output_type": "error",
          "ename": "TypeError",
          "evalue": "object of type 'NoneType' has no len()",
          "traceback": [
            "\u001b[0;31m---------------------------------------------------------------------------\u001b[0m",
            "\u001b[0;31mKeyboardInterrupt\u001b[0m                         Traceback (most recent call last)",
            "    \u001b[0;31m[... skipping hidden 1 frame]\u001b[0m\n",
            "\u001b[0;32m<ipython-input-71-60dcd0013de0>\u001b[0m in \u001b[0;36m<cell line: 0>\u001b[0;34m()\u001b[0m\n\u001b[1;32m     93\u001b[0m     \u001b[0;31m# Fetch head-to-head fixtures (memoized)\u001b[0m\u001b[0;34m\u001b[0m\u001b[0;34m\u001b[0m\u001b[0m\n\u001b[0;32m---> 94\u001b[0;31m     \u001b[0mfixtures\u001b[0m \u001b[0;34m=\u001b[0m \u001b[0mget_head_to_head_fixtures\u001b[0m\u001b[0;34m(\u001b[0m\u001b[0mhome_team_id\u001b[0m\u001b[0;34m,\u001b[0m \u001b[0maway_team_id\u001b[0m\u001b[0;34m)\u001b[0m\u001b[0;34m\u001b[0m\u001b[0;34m\u001b[0m\u001b[0m\n\u001b[0m\u001b[1;32m     95\u001b[0m \u001b[0;34m\u001b[0m\u001b[0m\n",
            "\u001b[0;32m<ipython-input-71-60dcd0013de0>\u001b[0m in \u001b[0;36mget_head_to_head_fixtures\u001b[0;34m(team_id_1, team_id_2)\u001b[0m\n\u001b[1;32m     18\u001b[0m     \u001b[0;32mtry\u001b[0m\u001b[0;34m:\u001b[0m\u001b[0;34m\u001b[0m\u001b[0;34m\u001b[0m\u001b[0m\n\u001b[0;32m---> 19\u001b[0;31m         \u001b[0mresponse\u001b[0m \u001b[0;34m=\u001b[0m \u001b[0mrequests\u001b[0m\u001b[0;34m.\u001b[0m\u001b[0mget\u001b[0m\u001b[0;34m(\u001b[0m\u001b[0murl\u001b[0m\u001b[0;34m,\u001b[0m \u001b[0mheaders\u001b[0m\u001b[0;34m=\u001b[0m\u001b[0mheaders\u001b[0m\u001b[0;34m)\u001b[0m\u001b[0;34m\u001b[0m\u001b[0;34m\u001b[0m\u001b[0m\n\u001b[0m\u001b[1;32m     20\u001b[0m         \u001b[0mresponse\u001b[0m\u001b[0;34m.\u001b[0m\u001b[0mraise_for_status\u001b[0m\u001b[0;34m(\u001b[0m\u001b[0;34m)\u001b[0m\u001b[0;34m\u001b[0m\u001b[0;34m\u001b[0m\u001b[0m\n",
            "\u001b[0;32m/usr/local/lib/python3.11/dist-packages/requests/api.py\u001b[0m in \u001b[0;36mget\u001b[0;34m(url, params, **kwargs)\u001b[0m\n\u001b[1;32m     72\u001b[0m \u001b[0;34m\u001b[0m\u001b[0m\n\u001b[0;32m---> 73\u001b[0;31m     \u001b[0;32mreturn\u001b[0m \u001b[0mrequest\u001b[0m\u001b[0;34m(\u001b[0m\u001b[0;34m\"get\"\u001b[0m\u001b[0;34m,\u001b[0m \u001b[0murl\u001b[0m\u001b[0;34m,\u001b[0m \u001b[0mparams\u001b[0m\u001b[0;34m=\u001b[0m\u001b[0mparams\u001b[0m\u001b[0;34m,\u001b[0m \u001b[0;34m**\u001b[0m\u001b[0mkwargs\u001b[0m\u001b[0;34m)\u001b[0m\u001b[0;34m\u001b[0m\u001b[0;34m\u001b[0m\u001b[0m\n\u001b[0m\u001b[1;32m     74\u001b[0m \u001b[0;34m\u001b[0m\u001b[0m\n",
            "\u001b[0;32m/usr/local/lib/python3.11/dist-packages/requests/api.py\u001b[0m in \u001b[0;36mrequest\u001b[0;34m(method, url, **kwargs)\u001b[0m\n\u001b[1;32m     58\u001b[0m     \u001b[0;32mwith\u001b[0m \u001b[0msessions\u001b[0m\u001b[0;34m.\u001b[0m\u001b[0mSession\u001b[0m\u001b[0;34m(\u001b[0m\u001b[0;34m)\u001b[0m \u001b[0;32mas\u001b[0m \u001b[0msession\u001b[0m\u001b[0;34m:\u001b[0m\u001b[0;34m\u001b[0m\u001b[0;34m\u001b[0m\u001b[0m\n\u001b[0;32m---> 59\u001b[0;31m         \u001b[0;32mreturn\u001b[0m \u001b[0msession\u001b[0m\u001b[0;34m.\u001b[0m\u001b[0mrequest\u001b[0m\u001b[0;34m(\u001b[0m\u001b[0mmethod\u001b[0m\u001b[0;34m=\u001b[0m\u001b[0mmethod\u001b[0m\u001b[0;34m,\u001b[0m \u001b[0murl\u001b[0m\u001b[0;34m=\u001b[0m\u001b[0murl\u001b[0m\u001b[0;34m,\u001b[0m \u001b[0;34m**\u001b[0m\u001b[0mkwargs\u001b[0m\u001b[0;34m)\u001b[0m\u001b[0;34m\u001b[0m\u001b[0;34m\u001b[0m\u001b[0m\n\u001b[0m\u001b[1;32m     60\u001b[0m \u001b[0;34m\u001b[0m\u001b[0m\n",
            "\u001b[0;32m/usr/local/lib/python3.11/dist-packages/requests/sessions.py\u001b[0m in \u001b[0;36mrequest\u001b[0;34m(self, method, url, params, data, headers, cookies, files, auth, timeout, allow_redirects, proxies, hooks, stream, verify, cert, json)\u001b[0m\n\u001b[1;32m    588\u001b[0m         \u001b[0msend_kwargs\u001b[0m\u001b[0;34m.\u001b[0m\u001b[0mupdate\u001b[0m\u001b[0;34m(\u001b[0m\u001b[0msettings\u001b[0m\u001b[0;34m)\u001b[0m\u001b[0;34m\u001b[0m\u001b[0;34m\u001b[0m\u001b[0m\n\u001b[0;32m--> 589\u001b[0;31m         \u001b[0mresp\u001b[0m \u001b[0;34m=\u001b[0m \u001b[0mself\u001b[0m\u001b[0;34m.\u001b[0m\u001b[0msend\u001b[0m\u001b[0;34m(\u001b[0m\u001b[0mprep\u001b[0m\u001b[0;34m,\u001b[0m \u001b[0;34m**\u001b[0m\u001b[0msend_kwargs\u001b[0m\u001b[0;34m)\u001b[0m\u001b[0;34m\u001b[0m\u001b[0;34m\u001b[0m\u001b[0m\n\u001b[0m\u001b[1;32m    590\u001b[0m \u001b[0;34m\u001b[0m\u001b[0m\n",
            "\u001b[0;32m/usr/local/lib/python3.11/dist-packages/requests/sessions.py\u001b[0m in \u001b[0;36msend\u001b[0;34m(self, request, **kwargs)\u001b[0m\n\u001b[1;32m    702\u001b[0m         \u001b[0;31m# Send the request\u001b[0m\u001b[0;34m\u001b[0m\u001b[0;34m\u001b[0m\u001b[0m\n\u001b[0;32m--> 703\u001b[0;31m         \u001b[0mr\u001b[0m \u001b[0;34m=\u001b[0m \u001b[0madapter\u001b[0m\u001b[0;34m.\u001b[0m\u001b[0msend\u001b[0m\u001b[0;34m(\u001b[0m\u001b[0mrequest\u001b[0m\u001b[0;34m,\u001b[0m \u001b[0;34m**\u001b[0m\u001b[0mkwargs\u001b[0m\u001b[0;34m)\u001b[0m\u001b[0;34m\u001b[0m\u001b[0;34m\u001b[0m\u001b[0m\n\u001b[0m\u001b[1;32m    704\u001b[0m \u001b[0;34m\u001b[0m\u001b[0m\n",
            "\u001b[0;32m/usr/local/lib/python3.11/dist-packages/requests/adapters.py\u001b[0m in \u001b[0;36msend\u001b[0;34m(self, request, stream, timeout, verify, cert, proxies)\u001b[0m\n\u001b[1;32m    666\u001b[0m         \u001b[0;32mtry\u001b[0m\u001b[0;34m:\u001b[0m\u001b[0;34m\u001b[0m\u001b[0;34m\u001b[0m\u001b[0m\n\u001b[0;32m--> 667\u001b[0;31m             resp = conn.urlopen(\n\u001b[0m\u001b[1;32m    668\u001b[0m                 \u001b[0mmethod\u001b[0m\u001b[0;34m=\u001b[0m\u001b[0mrequest\u001b[0m\u001b[0;34m.\u001b[0m\u001b[0mmethod\u001b[0m\u001b[0;34m,\u001b[0m\u001b[0;34m\u001b[0m\u001b[0;34m\u001b[0m\u001b[0m\n",
            "\u001b[0;32m/usr/local/lib/python3.11/dist-packages/urllib3/connectionpool.py\u001b[0m in \u001b[0;36murlopen\u001b[0;34m(self, method, url, body, headers, retries, redirect, assert_same_host, timeout, pool_timeout, release_conn, chunked, body_pos, preload_content, decode_content, **response_kw)\u001b[0m\n\u001b[1;32m    786\u001b[0m             \u001b[0;31m# Make the request on the HTTPConnection object\u001b[0m\u001b[0;34m\u001b[0m\u001b[0;34m\u001b[0m\u001b[0m\n\u001b[0;32m--> 787\u001b[0;31m             response = self._make_request(\n\u001b[0m\u001b[1;32m    788\u001b[0m                 \u001b[0mconn\u001b[0m\u001b[0;34m,\u001b[0m\u001b[0;34m\u001b[0m\u001b[0;34m\u001b[0m\u001b[0m\n",
            "\u001b[0;32m/usr/local/lib/python3.11/dist-packages/urllib3/connectionpool.py\u001b[0m in \u001b[0;36m_make_request\u001b[0;34m(self, conn, method, url, body, headers, retries, timeout, chunked, response_conn, preload_content, decode_content, enforce_content_length)\u001b[0m\n\u001b[1;32m    533\u001b[0m         \u001b[0;32mtry\u001b[0m\u001b[0;34m:\u001b[0m\u001b[0;34m\u001b[0m\u001b[0;34m\u001b[0m\u001b[0m\n\u001b[0;32m--> 534\u001b[0;31m             \u001b[0mresponse\u001b[0m \u001b[0;34m=\u001b[0m \u001b[0mconn\u001b[0m\u001b[0;34m.\u001b[0m\u001b[0mgetresponse\u001b[0m\u001b[0;34m(\u001b[0m\u001b[0;34m)\u001b[0m\u001b[0;34m\u001b[0m\u001b[0;34m\u001b[0m\u001b[0m\n\u001b[0m\u001b[1;32m    535\u001b[0m         \u001b[0;32mexcept\u001b[0m \u001b[0;34m(\u001b[0m\u001b[0mBaseSSLError\u001b[0m\u001b[0;34m,\u001b[0m \u001b[0mOSError\u001b[0m\u001b[0;34m)\u001b[0m \u001b[0;32mas\u001b[0m \u001b[0me\u001b[0m\u001b[0;34m:\u001b[0m\u001b[0;34m\u001b[0m\u001b[0;34m\u001b[0m\u001b[0m\n",
            "\u001b[0;32m/usr/local/lib/python3.11/dist-packages/urllib3/connection.py\u001b[0m in \u001b[0;36mgetresponse\u001b[0;34m(self)\u001b[0m\n\u001b[1;32m    515\u001b[0m         \u001b[0;31m# Get the response from http.client.HTTPConnection\u001b[0m\u001b[0;34m\u001b[0m\u001b[0;34m\u001b[0m\u001b[0m\n\u001b[0;32m--> 516\u001b[0;31m         \u001b[0mhttplib_response\u001b[0m \u001b[0;34m=\u001b[0m \u001b[0msuper\u001b[0m\u001b[0;34m(\u001b[0m\u001b[0;34m)\u001b[0m\u001b[0;34m.\u001b[0m\u001b[0mgetresponse\u001b[0m\u001b[0;34m(\u001b[0m\u001b[0;34m)\u001b[0m\u001b[0;34m\u001b[0m\u001b[0;34m\u001b[0m\u001b[0m\n\u001b[0m\u001b[1;32m    517\u001b[0m \u001b[0;34m\u001b[0m\u001b[0m\n",
            "\u001b[0;32m/usr/lib/python3.11/http/client.py\u001b[0m in \u001b[0;36mgetresponse\u001b[0;34m(self)\u001b[0m\n\u001b[1;32m   1394\u001b[0m             \u001b[0;32mtry\u001b[0m\u001b[0;34m:\u001b[0m\u001b[0;34m\u001b[0m\u001b[0;34m\u001b[0m\u001b[0m\n\u001b[0;32m-> 1395\u001b[0;31m                 \u001b[0mresponse\u001b[0m\u001b[0;34m.\u001b[0m\u001b[0mbegin\u001b[0m\u001b[0;34m(\u001b[0m\u001b[0;34m)\u001b[0m\u001b[0;34m\u001b[0m\u001b[0;34m\u001b[0m\u001b[0m\n\u001b[0m\u001b[1;32m   1396\u001b[0m             \u001b[0;32mexcept\u001b[0m \u001b[0mConnectionError\u001b[0m\u001b[0;34m:\u001b[0m\u001b[0;34m\u001b[0m\u001b[0;34m\u001b[0m\u001b[0m\n",
            "\u001b[0;32m/usr/lib/python3.11/http/client.py\u001b[0m in \u001b[0;36mbegin\u001b[0;34m(self)\u001b[0m\n\u001b[1;32m    324\u001b[0m         \u001b[0;32mwhile\u001b[0m \u001b[0;32mTrue\u001b[0m\u001b[0;34m:\u001b[0m\u001b[0;34m\u001b[0m\u001b[0;34m\u001b[0m\u001b[0m\n\u001b[0;32m--> 325\u001b[0;31m             \u001b[0mversion\u001b[0m\u001b[0;34m,\u001b[0m \u001b[0mstatus\u001b[0m\u001b[0;34m,\u001b[0m \u001b[0mreason\u001b[0m \u001b[0;34m=\u001b[0m \u001b[0mself\u001b[0m\u001b[0;34m.\u001b[0m\u001b[0m_read_status\u001b[0m\u001b[0;34m(\u001b[0m\u001b[0;34m)\u001b[0m\u001b[0;34m\u001b[0m\u001b[0;34m\u001b[0m\u001b[0m\n\u001b[0m\u001b[1;32m    326\u001b[0m             \u001b[0;32mif\u001b[0m \u001b[0mstatus\u001b[0m \u001b[0;34m!=\u001b[0m \u001b[0mCONTINUE\u001b[0m\u001b[0;34m:\u001b[0m\u001b[0;34m\u001b[0m\u001b[0;34m\u001b[0m\u001b[0m\n",
            "\u001b[0;32m/usr/lib/python3.11/http/client.py\u001b[0m in \u001b[0;36m_read_status\u001b[0;34m(self)\u001b[0m\n\u001b[1;32m    285\u001b[0m     \u001b[0;32mdef\u001b[0m \u001b[0m_read_status\u001b[0m\u001b[0;34m(\u001b[0m\u001b[0mself\u001b[0m\u001b[0;34m)\u001b[0m\u001b[0;34m:\u001b[0m\u001b[0;34m\u001b[0m\u001b[0;34m\u001b[0m\u001b[0m\n\u001b[0;32m--> 286\u001b[0;31m         \u001b[0mline\u001b[0m \u001b[0;34m=\u001b[0m \u001b[0mstr\u001b[0m\u001b[0;34m(\u001b[0m\u001b[0mself\u001b[0m\u001b[0;34m.\u001b[0m\u001b[0mfp\u001b[0m\u001b[0;34m.\u001b[0m\u001b[0mreadline\u001b[0m\u001b[0;34m(\u001b[0m\u001b[0m_MAXLINE\u001b[0m \u001b[0;34m+\u001b[0m \u001b[0;36m1\u001b[0m\u001b[0;34m)\u001b[0m\u001b[0;34m,\u001b[0m \u001b[0;34m\"iso-8859-1\"\u001b[0m\u001b[0;34m)\u001b[0m\u001b[0;34m\u001b[0m\u001b[0;34m\u001b[0m\u001b[0m\n\u001b[0m\u001b[1;32m    287\u001b[0m         \u001b[0;32mif\u001b[0m \u001b[0mlen\u001b[0m\u001b[0;34m(\u001b[0m\u001b[0mline\u001b[0m\u001b[0;34m)\u001b[0m \u001b[0;34m>\u001b[0m \u001b[0m_MAXLINE\u001b[0m\u001b[0;34m:\u001b[0m\u001b[0;34m\u001b[0m\u001b[0;34m\u001b[0m\u001b[0m\n",
            "\u001b[0;32m/usr/lib/python3.11/socket.py\u001b[0m in \u001b[0;36mreadinto\u001b[0;34m(self, b)\u001b[0m\n\u001b[1;32m    717\u001b[0m             \u001b[0;32mtry\u001b[0m\u001b[0;34m:\u001b[0m\u001b[0;34m\u001b[0m\u001b[0;34m\u001b[0m\u001b[0m\n\u001b[0;32m--> 718\u001b[0;31m                 \u001b[0;32mreturn\u001b[0m \u001b[0mself\u001b[0m\u001b[0;34m.\u001b[0m\u001b[0m_sock\u001b[0m\u001b[0;34m.\u001b[0m\u001b[0mrecv_into\u001b[0m\u001b[0;34m(\u001b[0m\u001b[0mb\u001b[0m\u001b[0;34m)\u001b[0m\u001b[0;34m\u001b[0m\u001b[0;34m\u001b[0m\u001b[0m\n\u001b[0m\u001b[1;32m    719\u001b[0m             \u001b[0;32mexcept\u001b[0m \u001b[0mtimeout\u001b[0m\u001b[0;34m:\u001b[0m\u001b[0;34m\u001b[0m\u001b[0;34m\u001b[0m\u001b[0m\n",
            "\u001b[0;32m/usr/lib/python3.11/ssl.py\u001b[0m in \u001b[0;36mrecv_into\u001b[0;34m(self, buffer, nbytes, flags)\u001b[0m\n\u001b[1;32m   1313\u001b[0m                   self.__class__)\n\u001b[0;32m-> 1314\u001b[0;31m             \u001b[0;32mreturn\u001b[0m \u001b[0mself\u001b[0m\u001b[0;34m.\u001b[0m\u001b[0mread\u001b[0m\u001b[0;34m(\u001b[0m\u001b[0mnbytes\u001b[0m\u001b[0;34m,\u001b[0m \u001b[0mbuffer\u001b[0m\u001b[0;34m)\u001b[0m\u001b[0;34m\u001b[0m\u001b[0;34m\u001b[0m\u001b[0m\n\u001b[0m\u001b[1;32m   1315\u001b[0m         \u001b[0;32melse\u001b[0m\u001b[0;34m:\u001b[0m\u001b[0;34m\u001b[0m\u001b[0;34m\u001b[0m\u001b[0m\n",
            "\u001b[0;32m/usr/lib/python3.11/ssl.py\u001b[0m in \u001b[0;36mread\u001b[0;34m(self, len, buffer)\u001b[0m\n\u001b[1;32m   1165\u001b[0m             \u001b[0;32mif\u001b[0m \u001b[0mbuffer\u001b[0m \u001b[0;32mis\u001b[0m \u001b[0;32mnot\u001b[0m \u001b[0;32mNone\u001b[0m\u001b[0;34m:\u001b[0m\u001b[0;34m\u001b[0m\u001b[0;34m\u001b[0m\u001b[0m\n\u001b[0;32m-> 1166\u001b[0;31m                 \u001b[0;32mreturn\u001b[0m \u001b[0mself\u001b[0m\u001b[0;34m.\u001b[0m\u001b[0m_sslobj\u001b[0m\u001b[0;34m.\u001b[0m\u001b[0mread\u001b[0m\u001b[0;34m(\u001b[0m\u001b[0mlen\u001b[0m\u001b[0;34m,\u001b[0m \u001b[0mbuffer\u001b[0m\u001b[0;34m)\u001b[0m\u001b[0;34m\u001b[0m\u001b[0;34m\u001b[0m\u001b[0m\n\u001b[0m\u001b[1;32m   1167\u001b[0m             \u001b[0;32melse\u001b[0m\u001b[0;34m:\u001b[0m\u001b[0;34m\u001b[0m\u001b[0;34m\u001b[0m\u001b[0m\n",
            "\u001b[0;31mKeyboardInterrupt\u001b[0m: ",
            "\nDuring handling of the above exception, another exception occurred:\n",
            "\u001b[0;31mAttributeError\u001b[0m                            Traceback (most recent call last)",
            "\u001b[0;32m/usr/local/lib/python3.11/dist-packages/IPython/core/interactiveshell.py\u001b[0m in \u001b[0;36mshowtraceback\u001b[0;34m(self, exc_tuple, filename, tb_offset, exception_only, running_compiled_code)\u001b[0m\n\u001b[1;32m   2098\u001b[0m                         \u001b[0;31m# in the engines. This should return a list of strings.\u001b[0m\u001b[0;34m\u001b[0m\u001b[0;34m\u001b[0m\u001b[0m\n\u001b[0;32m-> 2099\u001b[0;31m                         \u001b[0mstb\u001b[0m \u001b[0;34m=\u001b[0m \u001b[0mvalue\u001b[0m\u001b[0;34m.\u001b[0m\u001b[0m_render_traceback_\u001b[0m\u001b[0;34m(\u001b[0m\u001b[0;34m)\u001b[0m\u001b[0;34m\u001b[0m\u001b[0;34m\u001b[0m\u001b[0m\n\u001b[0m\u001b[1;32m   2100\u001b[0m                     \u001b[0;32mexcept\u001b[0m \u001b[0mException\u001b[0m\u001b[0;34m:\u001b[0m\u001b[0;34m\u001b[0m\u001b[0;34m\u001b[0m\u001b[0m\n",
            "\u001b[0;31mAttributeError\u001b[0m: 'KeyboardInterrupt' object has no attribute '_render_traceback_'",
            "\nDuring handling of the above exception, another exception occurred:\n",
            "\u001b[0;31mTypeError\u001b[0m                                 Traceback (most recent call last)",
            "    \u001b[0;31m[... skipping hidden 1 frame]\u001b[0m\n",
            "\u001b[0;32m/usr/local/lib/python3.11/dist-packages/IPython/core/interactiveshell.py\u001b[0m in \u001b[0;36mshowtraceback\u001b[0;34m(self, exc_tuple, filename, tb_offset, exception_only, running_compiled_code)\u001b[0m\n\u001b[1;32m   2099\u001b[0m                         \u001b[0mstb\u001b[0m \u001b[0;34m=\u001b[0m \u001b[0mvalue\u001b[0m\u001b[0;34m.\u001b[0m\u001b[0m_render_traceback_\u001b[0m\u001b[0;34m(\u001b[0m\u001b[0;34m)\u001b[0m\u001b[0;34m\u001b[0m\u001b[0;34m\u001b[0m\u001b[0m\n\u001b[1;32m   2100\u001b[0m                     \u001b[0;32mexcept\u001b[0m \u001b[0mException\u001b[0m\u001b[0;34m:\u001b[0m\u001b[0;34m\u001b[0m\u001b[0;34m\u001b[0m\u001b[0m\n\u001b[0;32m-> 2101\u001b[0;31m                         stb = self.InteractiveTB.structured_traceback(etype,\n\u001b[0m\u001b[1;32m   2102\u001b[0m                                             value, tb, tb_offset=tb_offset)\n\u001b[1;32m   2103\u001b[0m \u001b[0;34m\u001b[0m\u001b[0m\n",
            "\u001b[0;32m/usr/local/lib/python3.11/dist-packages/IPython/core/ultratb.py\u001b[0m in \u001b[0;36mstructured_traceback\u001b[0;34m(self, etype, value, tb, tb_offset, number_of_lines_of_context)\u001b[0m\n\u001b[1;32m   1365\u001b[0m         \u001b[0;32melse\u001b[0m\u001b[0;34m:\u001b[0m\u001b[0;34m\u001b[0m\u001b[0;34m\u001b[0m\u001b[0m\n\u001b[1;32m   1366\u001b[0m             \u001b[0mself\u001b[0m\u001b[0;34m.\u001b[0m\u001b[0mtb\u001b[0m \u001b[0;34m=\u001b[0m \u001b[0mtb\u001b[0m\u001b[0;34m\u001b[0m\u001b[0;34m\u001b[0m\u001b[0m\n\u001b[0;32m-> 1367\u001b[0;31m         return FormattedTB.structured_traceback(\n\u001b[0m\u001b[1;32m   1368\u001b[0m             self, etype, value, tb, tb_offset, number_of_lines_of_context)\n\u001b[1;32m   1369\u001b[0m \u001b[0;34m\u001b[0m\u001b[0m\n",
            "\u001b[0;32m/usr/local/lib/python3.11/dist-packages/IPython/core/ultratb.py\u001b[0m in \u001b[0;36mstructured_traceback\u001b[0;34m(self, etype, value, tb, tb_offset, number_of_lines_of_context)\u001b[0m\n\u001b[1;32m   1265\u001b[0m         \u001b[0;32mif\u001b[0m \u001b[0mmode\u001b[0m \u001b[0;32min\u001b[0m \u001b[0mself\u001b[0m\u001b[0;34m.\u001b[0m\u001b[0mverbose_modes\u001b[0m\u001b[0;34m:\u001b[0m\u001b[0;34m\u001b[0m\u001b[0;34m\u001b[0m\u001b[0m\n\u001b[1;32m   1266\u001b[0m             \u001b[0;31m# Verbose modes need a full traceback\u001b[0m\u001b[0;34m\u001b[0m\u001b[0;34m\u001b[0m\u001b[0m\n\u001b[0;32m-> 1267\u001b[0;31m             return VerboseTB.structured_traceback(\n\u001b[0m\u001b[1;32m   1268\u001b[0m                 \u001b[0mself\u001b[0m\u001b[0;34m,\u001b[0m \u001b[0metype\u001b[0m\u001b[0;34m,\u001b[0m \u001b[0mvalue\u001b[0m\u001b[0;34m,\u001b[0m \u001b[0mtb\u001b[0m\u001b[0;34m,\u001b[0m \u001b[0mtb_offset\u001b[0m\u001b[0;34m,\u001b[0m \u001b[0mnumber_of_lines_of_context\u001b[0m\u001b[0;34m\u001b[0m\u001b[0;34m\u001b[0m\u001b[0m\n\u001b[1;32m   1269\u001b[0m             )\n",
            "\u001b[0;32m/usr/local/lib/python3.11/dist-packages/IPython/core/ultratb.py\u001b[0m in \u001b[0;36mstructured_traceback\u001b[0;34m(self, etype, evalue, etb, tb_offset, number_of_lines_of_context)\u001b[0m\n\u001b[1;32m   1122\u001b[0m         \u001b[0;34m\"\"\"Return a nice text document describing the traceback.\"\"\"\u001b[0m\u001b[0;34m\u001b[0m\u001b[0;34m\u001b[0m\u001b[0m\n\u001b[1;32m   1123\u001b[0m \u001b[0;34m\u001b[0m\u001b[0m\n\u001b[0;32m-> 1124\u001b[0;31m         formatted_exception = self.format_exception_as_a_whole(etype, evalue, etb, number_of_lines_of_context,\n\u001b[0m\u001b[1;32m   1125\u001b[0m                                                                tb_offset)\n\u001b[1;32m   1126\u001b[0m \u001b[0;34m\u001b[0m\u001b[0m\n",
            "\u001b[0;32m/usr/local/lib/python3.11/dist-packages/IPython/core/ultratb.py\u001b[0m in \u001b[0;36mformat_exception_as_a_whole\u001b[0;34m(self, etype, evalue, etb, number_of_lines_of_context, tb_offset)\u001b[0m\n\u001b[1;32m   1080\u001b[0m \u001b[0;34m\u001b[0m\u001b[0m\n\u001b[1;32m   1081\u001b[0m \u001b[0;34m\u001b[0m\u001b[0m\n\u001b[0;32m-> 1082\u001b[0;31m         \u001b[0mlast_unique\u001b[0m\u001b[0;34m,\u001b[0m \u001b[0mrecursion_repeat\u001b[0m \u001b[0;34m=\u001b[0m \u001b[0mfind_recursion\u001b[0m\u001b[0;34m(\u001b[0m\u001b[0morig_etype\u001b[0m\u001b[0;34m,\u001b[0m \u001b[0mevalue\u001b[0m\u001b[0;34m,\u001b[0m \u001b[0mrecords\u001b[0m\u001b[0;34m)\u001b[0m\u001b[0;34m\u001b[0m\u001b[0;34m\u001b[0m\u001b[0m\n\u001b[0m\u001b[1;32m   1083\u001b[0m \u001b[0;34m\u001b[0m\u001b[0m\n\u001b[1;32m   1084\u001b[0m         \u001b[0mframes\u001b[0m \u001b[0;34m=\u001b[0m \u001b[0mself\u001b[0m\u001b[0;34m.\u001b[0m\u001b[0mformat_records\u001b[0m\u001b[0;34m(\u001b[0m\u001b[0mrecords\u001b[0m\u001b[0;34m,\u001b[0m \u001b[0mlast_unique\u001b[0m\u001b[0;34m,\u001b[0m \u001b[0mrecursion_repeat\u001b[0m\u001b[0;34m)\u001b[0m\u001b[0;34m\u001b[0m\u001b[0;34m\u001b[0m\u001b[0m\n",
            "\u001b[0;32m/usr/local/lib/python3.11/dist-packages/IPython/core/ultratb.py\u001b[0m in \u001b[0;36mfind_recursion\u001b[0;34m(etype, value, records)\u001b[0m\n\u001b[1;32m    380\u001b[0m     \u001b[0;31m# first frame (from in to out) that looks different.\u001b[0m\u001b[0;34m\u001b[0m\u001b[0;34m\u001b[0m\u001b[0m\n\u001b[1;32m    381\u001b[0m     \u001b[0;32mif\u001b[0m \u001b[0;32mnot\u001b[0m \u001b[0mis_recursion_error\u001b[0m\u001b[0;34m(\u001b[0m\u001b[0metype\u001b[0m\u001b[0;34m,\u001b[0m \u001b[0mvalue\u001b[0m\u001b[0;34m,\u001b[0m \u001b[0mrecords\u001b[0m\u001b[0;34m)\u001b[0m\u001b[0;34m:\u001b[0m\u001b[0;34m\u001b[0m\u001b[0;34m\u001b[0m\u001b[0m\n\u001b[0;32m--> 382\u001b[0;31m         \u001b[0;32mreturn\u001b[0m \u001b[0mlen\u001b[0m\u001b[0;34m(\u001b[0m\u001b[0mrecords\u001b[0m\u001b[0;34m)\u001b[0m\u001b[0;34m,\u001b[0m \u001b[0;36m0\u001b[0m\u001b[0;34m\u001b[0m\u001b[0;34m\u001b[0m\u001b[0m\n\u001b[0m\u001b[1;32m    383\u001b[0m \u001b[0;34m\u001b[0m\u001b[0m\n\u001b[1;32m    384\u001b[0m     \u001b[0;31m# Select filename, lineno, func_name to track frames with\u001b[0m\u001b[0;34m\u001b[0m\u001b[0;34m\u001b[0m\u001b[0m\n",
            "\u001b[0;31mTypeError\u001b[0m: object of type 'NoneType' has no len()"
          ]
        }
      ]
    },
    {
      "cell_type": "code",
      "source": [
        "head_to_head = pd.read_csv(\"new_data_with_head_to_head_stats.csv\")\n",
        "print(head_to_head.iloc[90, :].to_string())"
      ],
      "metadata": {
        "colab": {
          "base_uri": "https://localhost:8080/"
        },
        "id": "hlTqm4O5DTRO",
        "outputId": "346be155-c1bb-4bc6-df79-7274c2ba5f42"
      },
      "execution_count": null,
      "outputs": [
        {
          "output_type": "stream",
          "name": "stdout",
          "text": [
            "date                                      15th October 2022\n",
            "clock                                                3:00pm\n",
            "Home Team                                            Fulham\n",
            "Away Team                                   AFC Bournemouth\n",
            "Home Result                                             Tie\n",
            "stadium_encoded                                           2\n",
            "attendance_scaled                                  0.303299\n",
            "Home_Team_Last_5_Points_Scaled                          0.4\n",
            "Away_Team_Last_5_Points_Scaled                          0.6\n",
            "Home_Team_Season_Avg_Possession_Scaled             0.182778\n",
            "Away_Team_Season_Avg_Possession_Scaled             0.266713\n",
            "Home_Team_Season_Avg_Shots_Scaled                  0.524217\n",
            "Away_Team_Season_Avg_Shots_Scaled                  0.294686\n",
            "Home_Team_Season_Avg_Pass_Scaled                   0.540534\n",
            "Away_Team_Season_Avg_Pass_Scaled                   0.611434\n",
            "Home_Team_Season_Avg_Chances_Scaled                0.237037\n",
            "Away_Team_Season_Avg_Chances_Scaled                0.144928\n",
            "Rest_Days_Home                                          6.0\n",
            "Rest_Days_Away                                          7.0\n",
            "Home_Team_ID                                             11\n",
            "Away_Team_ID                                             52\n",
            "Num_Previous_Fixtures                                    12\n",
            "Num_Home_Wins                                             2\n",
            "Num_Away_Wins                                             6\n",
            "Num_Draws                                                 4\n"
          ]
        }
      ]
    },
    {
      "cell_type": "code",
      "source": [
        "import pandas as pd\n",
        "from sklearn.preprocessing import MinMaxScaler\n",
        "\n",
        "# Load the dataset\n",
        "df = pd.read_csv(\"new_data_with_head_to_head_stats.csv\")\n",
        "\n",
        "# Columns to scale\n",
        "cols_to_scale = [\n",
        "    \"Num_Previous_Fixtures\",\n",
        "    \"Num_Home_Wins\",\n",
        "    \"Num_Away_Wins\",\n",
        "    \"Num_Draws\",\n",
        "    \"Rest_Days_Home\",\n",
        "    \"Rest_Days_Away\"\n",
        "]\n",
        "\n",
        "# Initialize scaler\n",
        "scaler = MinMaxScaler()\n",
        "\n",
        "# Apply scaling\n",
        "scaled_values = scaler.fit_transform(df[cols_to_scale])\n",
        "\n",
        "# Create scaled column names\n",
        "scaled_col_names = [f\"{col}_Scaled\" for col in cols_to_scale]\n",
        "\n",
        "# Add to dataframe\n",
        "df_scaled = pd.DataFrame(scaled_values, columns=scaled_col_names)\n",
        "df = pd.concat([df.drop(columns=cols_to_scale), df_scaled], axis=1)\n",
        "\n",
        "# Save updated dataset\n",
        "df.to_csv(\"final_dataset_scaled.csv\", index=False)\n",
        "print(\"✅ Scaled columns added and saved to final_dataset_scaled.csv\")\n"
      ],
      "metadata": {
        "colab": {
          "base_uri": "https://localhost:8080/"
        },
        "id": "x2Ie43wvEWNe",
        "outputId": "9fd5f07d-c5a4-4a4b-e8d4-10dc5c35b4b6"
      },
      "execution_count": null,
      "outputs": [
        {
          "output_type": "stream",
          "name": "stdout",
          "text": [
            "✅ Scaled columns added and saved to final_dataset_scaled.csv\n"
          ]
        }
      ]
    },
    {
      "cell_type": "code",
      "source": [
        "scaled_all = pd.read_csv(\"final_dataset_scaled.csv\")\n",
        "print(scaled_all.iloc[90, :].to_string())"
      ],
      "metadata": {
        "colab": {
          "base_uri": "https://localhost:8080/"
        },
        "id": "8vC9_h3UGHaK",
        "outputId": "d89a646f-01b9-48bf-9283-b80aba0b3b2f"
      },
      "execution_count": null,
      "outputs": [
        {
          "output_type": "stream",
          "name": "stdout",
          "text": [
            "date                                      15th October 2022\n",
            "clock                                                3:00pm\n",
            "Home Team                                            Fulham\n",
            "Away Team                                   AFC Bournemouth\n",
            "Home Result                                             Tie\n",
            "stadium_encoded                                           2\n",
            "attendance_scaled                                  0.303299\n",
            "Home_Team_Last_5_Points_Scaled                          0.4\n",
            "Away_Team_Last_5_Points_Scaled                          0.6\n",
            "Home_Team_Season_Avg_Possession_Scaled             0.182778\n",
            "Away_Team_Season_Avg_Possession_Scaled             0.266713\n",
            "Home_Team_Season_Avg_Shots_Scaled                  0.524217\n",
            "Away_Team_Season_Avg_Shots_Scaled                  0.294686\n",
            "Home_Team_Season_Avg_Pass_Scaled                   0.540534\n",
            "Away_Team_Season_Avg_Pass_Scaled                   0.611434\n",
            "Home_Team_Season_Avg_Chances_Scaled                0.237037\n",
            "Away_Team_Season_Avg_Chances_Scaled                0.144928\n",
            "Home_Team_ID                                             11\n",
            "Away_Team_ID                                             52\n",
            "Num_Previous_Fixtures_Scaled                       0.109091\n",
            "Num_Home_Wins_Scaled                               0.028571\n",
            "Num_Away_Wins_Scaled                               0.142857\n",
            "Num_Draws_Scaled                                   0.190476\n",
            "Rest_Days_Home_Scaled                              0.069767\n",
            "Rest_Days_Away_Scaled                              0.093023\n"
          ]
        }
      ]
    },
    {
      "cell_type": "code",
      "source": [
        "import pandas as pd\n",
        "from datetime import datetime\n",
        "\n",
        "# Load your dataset\n",
        "df = pd.read_csv(\"final_dataset_scaled.csv\")\n",
        "\n",
        "# Clean and convert the 'date' column\n",
        "def clean_date(d):\n",
        "    parts = d.split()\n",
        "    day = ''.join(filter(str.isdigit, parts[0]))  # Remove 'th', 'rd', 'st', etc.\n",
        "    month = parts[1]\n",
        "    year = parts[2]\n",
        "    return datetime.strptime(f\"{day} {month} {year}\", \"%d %B %Y\")\n",
        "\n",
        "df[\"date\"] = df[\"date\"].apply(clean_date)\n",
        "\n",
        "# Save the updated file\n",
        "df.to_csv(\"final_dataset_cleaned.csv\", index=False)\n",
        "print(\"✅ Date converted to datetime format and saved to final_dataset_cleaned.csv\")\n"
      ],
      "metadata": {
        "colab": {
          "base_uri": "https://localhost:8080/"
        },
        "id": "rG5Cd-aTGkLt",
        "outputId": "650c0ac0-632a-4bd6-e0db-5aff0e08a5cf"
      },
      "execution_count": null,
      "outputs": [
        {
          "output_type": "stream",
          "name": "stdout",
          "text": [
            "✅ Date converted to datetime format and saved to final_dataset_cleaned.csv\n"
          ]
        }
      ]
    },
    {
      "cell_type": "code",
      "source": [
        "cleaned = pd.read_csv(\"final_dataset_cleaned.csv\")\n",
        "print(cleaned.iloc[90, :].to_string())"
      ],
      "metadata": {
        "colab": {
          "base_uri": "https://localhost:8080/"
        },
        "id": "vfiZ-zJNGmXW",
        "outputId": "147697f4-a63c-4fad-ef8d-1fb96a58dd39"
      },
      "execution_count": null,
      "outputs": [
        {
          "output_type": "stream",
          "name": "stdout",
          "text": [
            "date                                           2022-10-15\n",
            "clock                                              3:00pm\n",
            "Home Team                                          Fulham\n",
            "Away Team                                 AFC Bournemouth\n",
            "Home Result                                           Tie\n",
            "stadium_encoded                                         2\n",
            "attendance_scaled                                0.303299\n",
            "Home_Team_Last_5_Points_Scaled                        0.4\n",
            "Away_Team_Last_5_Points_Scaled                        0.6\n",
            "Home_Team_Season_Avg_Possession_Scaled           0.182778\n",
            "Away_Team_Season_Avg_Possession_Scaled           0.266713\n",
            "Home_Team_Season_Avg_Shots_Scaled                0.524217\n",
            "Away_Team_Season_Avg_Shots_Scaled                0.294686\n",
            "Home_Team_Season_Avg_Pass_Scaled                 0.540534\n",
            "Away_Team_Season_Avg_Pass_Scaled                 0.611434\n",
            "Home_Team_Season_Avg_Chances_Scaled              0.237037\n",
            "Away_Team_Season_Avg_Chances_Scaled              0.144928\n",
            "Home_Team_ID                                           11\n",
            "Away_Team_ID                                           52\n",
            "Num_Previous_Fixtures_Scaled                     0.109091\n",
            "Num_Home_Wins_Scaled                             0.028571\n",
            "Num_Away_Wins_Scaled                             0.142857\n",
            "Num_Draws_Scaled                                 0.190476\n",
            "Rest_Days_Home_Scaled                            0.069767\n",
            "Rest_Days_Away_Scaled                            0.093023\n"
          ]
        }
      ]
    },
    {
      "cell_type": "code",
      "source": [
        "import pandas as pd\n",
        "from datetime import datetime\n",
        "\n",
        "df = pd.read_csv(\"final_dataset_cleaned.csv\")\n",
        "\n",
        "# Fix shorthand like '3:00p' or '11:45a' → '3:00pm', '11:45am'\n",
        "def fix_clock_format(clock_str):\n",
        "    clock_str = clock_str.strip().lower()\n",
        "    if clock_str.endswith(\"a\") or clock_str.endswith(\"p\"):\n",
        "        clock_str += \"m\"\n",
        "    return clock_str\n",
        "\n",
        "# Apply fix and binning\n",
        "def clock_to_bin(clock_str):\n",
        "    clock_str = fix_clock_format(clock_str)\n",
        "    time_obj = datetime.strptime(clock_str, \"%I:%M%p\").time()\n",
        "    hour = time_obj.hour\n",
        "    if 5 <= hour < 12:\n",
        "        return \"Morning\"\n",
        "    elif 12 <= hour < 17:\n",
        "        return \"Afternoon\"\n",
        "    elif 17 <= hour < 21:\n",
        "        return \"Evening\"\n",
        "    else:\n",
        "        return \"Night\"\n",
        "\n",
        "# Add day of week and time bin\n",
        "df[\"day_of_week\"] = pd.to_datetime(df[\"date\"]).dt.day_name()\n",
        "df[\"time_of_day_bin\"] = df[\"clock\"].apply(clock_to_bin)\n",
        "\n",
        "# Save it\n",
        "df.to_csv(\"final_dataset_with_time_bins.csv\", index=False)\n",
        "print(\"✅ Clock format cleaned + time bins + day of week added.\")\n"
      ],
      "metadata": {
        "colab": {
          "base_uri": "https://localhost:8080/"
        },
        "id": "3EoSdpeqG3rR",
        "outputId": "097d5a6b-0b7e-476e-8d26-8af665e38a8a"
      },
      "execution_count": null,
      "outputs": [
        {
          "output_type": "stream",
          "name": "stdout",
          "text": [
            "✅ Clock format cleaned + time bins + day of week added.\n"
          ]
        }
      ]
    },
    {
      "cell_type": "code",
      "source": [
        "time_bins = pd.read_csv(\"final_dataset_with_time_bins.csv\")\n",
        "print(time_bins.iloc[90, :].to_string())"
      ],
      "metadata": {
        "colab": {
          "base_uri": "https://localhost:8080/"
        },
        "id": "FCCRqFigHFhY",
        "outputId": "e722a719-900f-4e1e-bd58-faa1cb40adb3"
      },
      "execution_count": null,
      "outputs": [
        {
          "output_type": "stream",
          "name": "stdout",
          "text": [
            "date                                           2022-10-15\n",
            "clock                                              3:00pm\n",
            "Home Team                                          Fulham\n",
            "Away Team                                 AFC Bournemouth\n",
            "Home Result                                           Tie\n",
            "stadium_encoded                                         2\n",
            "attendance_scaled                                0.303299\n",
            "Home_Team_Last_5_Points_Scaled                        0.4\n",
            "Away_Team_Last_5_Points_Scaled                        0.6\n",
            "Home_Team_Season_Avg_Possession_Scaled           0.182778\n",
            "Away_Team_Season_Avg_Possession_Scaled           0.266713\n",
            "Home_Team_Season_Avg_Shots_Scaled                0.524217\n",
            "Away_Team_Season_Avg_Shots_Scaled                0.294686\n",
            "Home_Team_Season_Avg_Pass_Scaled                 0.540534\n",
            "Away_Team_Season_Avg_Pass_Scaled                 0.611434\n",
            "Home_Team_Season_Avg_Chances_Scaled              0.237037\n",
            "Away_Team_Season_Avg_Chances_Scaled              0.144928\n",
            "Home_Team_ID                                           11\n",
            "Away_Team_ID                                           52\n",
            "Num_Previous_Fixtures_Scaled                     0.109091\n",
            "Num_Home_Wins_Scaled                             0.028571\n",
            "Num_Away_Wins_Scaled                             0.142857\n",
            "Num_Draws_Scaled                                 0.190476\n",
            "Rest_Days_Home_Scaled                            0.069767\n",
            "Rest_Days_Away_Scaled                            0.093023\n",
            "day_of_week                                      Saturday\n",
            "time_of_day_bin                                 Afternoon\n"
          ]
        }
      ]
    },
    {
      "cell_type": "code",
      "source": [
        "import pandas as pd\n",
        "from sklearn.preprocessing import LabelEncoder\n",
        "\n",
        "# Load dataset\n",
        "df = pd.read_csv(\"final_dataset_with_time_bins.csv\")\n",
        "\n",
        "# Step 1: Drop columns\n",
        "df.drop(columns=[\"date\", \"clock\", \"Home Team\", \"Away Team\"], inplace=True)\n",
        "\n",
        "# Step 2: Label encode categorical variables\n",
        "label_cols = [\n",
        "    \"Home Result\",        # e.g., 'Win', 'Loss', 'Tie'\n",
        "    \"stadium_encoded\",    # already encoded but treat it as categorical\n",
        "    \"Home_Team_ID\",\n",
        "    \"Away_Team_ID\",\n",
        "    \"day_of_week\",\n",
        "    \"time_of_day_bin\"\n",
        "]\n",
        "\n",
        "encoders = {}\n",
        "for col in label_cols:\n",
        "    le = LabelEncoder()\n",
        "    df[col] = le.fit_transform(df[col])\n",
        "    encoders[col] = le  # Save encoders in case you want to reverse later\n",
        "\n",
        "# Save cleaned dataset\n",
        "df.to_csv(\"final_dataset_encoded.csv\", index=False)\n",
        "print(\"✅ Cleaned, encoded, and saved to final_dataset_encoded.csv\")\n"
      ],
      "metadata": {
        "colab": {
          "base_uri": "https://localhost:8080/"
        },
        "id": "-Wc1HNBQHqbb",
        "outputId": "95b0cb51-e5a5-437b-e690-d7e33001b9db"
      },
      "execution_count": null,
      "outputs": [
        {
          "output_type": "stream",
          "name": "stdout",
          "text": [
            "✅ Cleaned, encoded, and saved to final_dataset_encoded.csv\n"
          ]
        }
      ]
    },
    {
      "cell_type": "code",
      "source": [
        "final = pd.read_csv(\"final_dataset_encoded.csv\")\n",
        "print(final.iloc[90, :].to_string())"
      ],
      "metadata": {
        "colab": {
          "base_uri": "https://localhost:8080/"
        },
        "id": "hSdEV4pEHrm0",
        "outputId": "aae9b09e-e554-4a5c-d751-50e5d1e9db38"
      },
      "execution_count": null,
      "outputs": [
        {
          "output_type": "stream",
          "name": "stdout",
          "text": [
            "Home Result                                1.000000\n",
            "stadium_encoded                            2.000000\n",
            "attendance_scaled                          0.303299\n",
            "Home_Team_Last_5_Points_Scaled             0.400000\n",
            "Away_Team_Last_5_Points_Scaled             0.600000\n",
            "Home_Team_Season_Avg_Possession_Scaled     0.182778\n",
            "Away_Team_Season_Avg_Possession_Scaled     0.266713\n",
            "Home_Team_Season_Avg_Shots_Scaled          0.524217\n",
            "Away_Team_Season_Avg_Shots_Scaled          0.294686\n",
            "Home_Team_Season_Avg_Pass_Scaled           0.540534\n",
            "Away_Team_Season_Avg_Pass_Scaled           0.611434\n",
            "Home_Team_Season_Avg_Chances_Scaled        0.237037\n",
            "Away_Team_Season_Avg_Chances_Scaled        0.144928\n",
            "Home_Team_ID                               4.000000\n",
            "Away_Team_ID                              14.000000\n",
            "Num_Previous_Fixtures_Scaled               0.109091\n",
            "Num_Home_Wins_Scaled                       0.028571\n",
            "Num_Away_Wins_Scaled                       0.142857\n",
            "Num_Draws_Scaled                           0.190476\n",
            "Rest_Days_Home_Scaled                      0.069767\n",
            "Rest_Days_Away_Scaled                      0.093023\n",
            "day_of_week                                2.000000\n",
            "time_of_day_bin                            0.000000\n"
          ]
        }
      ]
    },
    {
      "cell_type": "code",
      "source": [
        "!pip install lightgbm\n",
        "\n",
        "import pandas as pd\n",
        "from lightgbm import LGBMClassifier\n",
        "from sklearn.model_selection import GridSearchCV, train_test_split\n",
        "from sklearn.metrics import accuracy_score, classification_report\n",
        "\n",
        "# Load encoded dataset\n",
        "df = pd.read_csv(\"final_dataset_encoded.csv\")\n",
        "\n",
        "# Define features/target\n",
        "X = df.drop(columns=[\"Home Result\"])\n",
        "y = df[\"Home Result\"]\n",
        "\n",
        "# Define categorical features\n",
        "categorical_features = [\n",
        "    \"stadium_encoded\",\n",
        "    \"Home_Team_ID\",\n",
        "    \"Away_Team_ID\",\n",
        "    \"day_of_week\",\n",
        "    \"time_of_day_bin\"\n",
        "]\n",
        "\n",
        "# Split into train/test\n",
        "X_train, X_test, y_train, y_test = train_test_split(\n",
        "    X, y, test_size=0.2, random_state=42, stratify=y\n",
        ")\n",
        "\n",
        "# Define hyperparameter grid\n",
        "param_grid = {\n",
        "    \"learning_rate\": [0.01, 0.05, 0.1],\n",
        "    \"num_leaves\": [15, 31, 63],\n",
        "    \"max_depth\": [-1, 5, 10],\n",
        "    \"n_estimators\": [100, 200]\n",
        "}\n",
        "\n",
        "# Initialize model\n",
        "lgbm = LGBMClassifier(random_state=42, verbose=-1)\n",
        "\n",
        "# Run grid search\n",
        "grid = GridSearchCV(\n",
        "    lgbm,\n",
        "    param_grid,\n",
        "    scoring=\"accuracy\",\n",
        "    cv=3,\n",
        "    n_jobs=-1,\n",
        "    verbose=1\n",
        ")\n",
        "\n",
        "# Train with categorical support\n",
        "grid.fit(X_train, y_train, categorical_feature=categorical_features)\n",
        "\n",
        "# Evaluate best model\n",
        "best_model = grid.best_estimator_\n",
        "y_pred = best_model.predict(X_test)\n",
        "acc = accuracy_score(y_test, y_pred)\n",
        "\n",
        "print(f\"\\n✅ Best Accuracy: {acc:.4f}\")\n",
        "print(\"📊 Classification Report:\\n\", classification_report(y_test, y_pred))\n",
        "print(\"📌 Best Parameters:\", grid.best_params_)\n"
      ],
      "metadata": {
        "colab": {
          "base_uri": "https://localhost:8080/"
        },
        "id": "kLXKpKoEIKFF",
        "outputId": "03bd7112-2280-452f-9a3f-26c24d3c8077"
      },
      "execution_count": null,
      "outputs": [
        {
          "output_type": "stream",
          "name": "stdout",
          "text": [
            "Requirement already satisfied: lightgbm in /usr/local/lib/python3.11/dist-packages (4.5.0)\n",
            "Requirement already satisfied: numpy>=1.17.0 in /usr/local/lib/python3.11/dist-packages (from lightgbm) (2.0.2)\n",
            "Requirement already satisfied: scipy in /usr/local/lib/python3.11/dist-packages (from lightgbm) (1.14.1)\n",
            "Fitting 3 folds for each of 54 candidates, totalling 162 fits\n",
            "\n",
            "✅ Best Accuracy: 0.5526\n",
            "📊 Classification Report:\n",
            "               precision    recall  f1-score   support\n",
            "\n",
            "           0       0.67      0.27      0.39        22\n",
            "           1       0.50      0.29      0.37        17\n",
            "           2       0.54      0.84      0.66        37\n",
            "\n",
            "    accuracy                           0.55        76\n",
            "   macro avg       0.57      0.47      0.47        76\n",
            "weighted avg       0.57      0.55      0.52        76\n",
            "\n",
            "📌 Best Parameters: {'learning_rate': 0.01, 'max_depth': -1, 'n_estimators': 100, 'num_leaves': 15}\n"
          ]
        }
      ]
    },
    {
      "cell_type": "code",
      "source": [
        "import torch\n",
        "import torch.nn as nn\n",
        "import torch.nn.functional as F\n",
        "from torch.utils.data import DataLoader, TensorDataset, random_split\n",
        "import pandas as pd\n",
        "import numpy as np\n",
        "\n",
        "# Load preprocessed data\n",
        "df = pd.read_csv(\"final_dataset_encoded.csv\")\n",
        "\n",
        "# Separate features & labels\n",
        "X = df.drop(columns=[\"Home Result\"]).values\n",
        "y = df[\"Home Result\"].values\n",
        "\n",
        "# TCN expects shape: [batch_size, channels=1, sequence_length]\n",
        "# In this case: 1 timestep per match, all features as the sequence\n",
        "X = X.reshape((X.shape[0], 1, X.shape[1]))  # [N, 1, features]\n",
        "\n",
        "# Convert to tensors\n",
        "X_tensor = torch.tensor(X, dtype=torch.float32)\n",
        "y_tensor = torch.tensor(y, dtype=torch.long)\n",
        "\n",
        "# Create dataset & dataloaders\n",
        "dataset = TensorDataset(X_tensor, y_tensor)\n",
        "train_len = int(len(dataset) * 0.8)\n",
        "train_set, val_set = random_split(dataset, [train_len, len(dataset) - train_len])\n",
        "\n",
        "train_loader = DataLoader(train_set, batch_size=32, shuffle=True)\n",
        "val_loader = DataLoader(val_set, batch_size=32)\n",
        "\n",
        "# Define a TCN Block\n",
        "class TCNBlock(nn.Module):\n",
        "    def __init__(self, in_channels, out_channels, kernel_size, dilation):\n",
        "        super().__init__()\n",
        "        padding = (kernel_size - 1) * dilation\n",
        "        self.conv = nn.Conv1d(in_channels, out_channels, kernel_size,\n",
        "                              padding=padding, dilation=dilation)\n",
        "        self.relu = nn.ReLU()\n",
        "        self.downsample = nn.Conv1d(in_channels, out_channels, 1) if in_channels != out_channels else None\n",
        "\n",
        "    def forward(self, x):\n",
        "        out = self.relu(self.conv(x))\n",
        "        # Adjust out to match x's dimensions before addition\n",
        "        out = out[:, :, :x.shape[2]]\n",
        "        if self.downsample:\n",
        "            x = self.downsample(x)\n",
        "        return out + x\n",
        "\n",
        "# Full TCN Classifier\n",
        "class TCNClassifier(nn.Module):\n",
        "    def __init__(self, input_length, hidden_dim, kernel_size, num_classes):\n",
        "        super().__init__()\n",
        "        self.tcn1 = TCNBlock(1, hidden_dim, kernel_size, dilation=1)\n",
        "        self.tcn2 = TCNBlock(hidden_dim, hidden_dim, kernel_size, dilation=2)\n",
        "        self.flatten = nn.Flatten()\n",
        "        self.fc = nn.Linear(hidden_dim * input_length, num_classes)\n",
        "\n",
        "    def forward(self, x):\n",
        "        x = self.tcn1(x)\n",
        "        x = self.tcn2(x)\n",
        "        x = self.flatten(x)\n",
        "        return self.fc(x)\n",
        "\n",
        "# Init model\n",
        "input_len = X.shape[2]  # number of features\n",
        "model = TCNClassifier(input_length=input_len, hidden_dim=64, kernel_size=3, num_classes=3)\n",
        "\n",
        "optimizer = torch.optim.Adam(model.parameters(), lr=0.001)\n",
        "criterion = nn.CrossEntropyLoss()\n",
        "\n",
        "# Training loop\n",
        "for epoch in range(20):\n",
        "    model.train()\n",
        "    for xb, yb in train_loader:\n",
        "        optimizer.zero_grad()\n",
        "        out = model(xb)\n",
        "        loss = criterion(out, yb)\n",
        "        loss.backward()\n",
        "        optimizer.step()\n",
        "\n",
        "    # Validation\n",
        "    model.eval()\n",
        "    correct = total = 0\n",
        "    with torch.no_grad():\n",
        "        for xb, yb in val_loader:\n",
        "            preds = model(xb)\n",
        "            correct += (preds.argmax(1) == yb).sum().item()\n",
        "            total += yb.size(0)\n",
        "    acc = correct / total\n",
        "    print(f\"📈 Epoch {epoch+1:02d} | Val Accuracy: {acc:.4f}\")\n"
      ],
      "metadata": {
        "colab": {
          "base_uri": "https://localhost:8080/"
        },
        "id": "DHGjp5SkBe05",
        "outputId": "9be60d77-223a-4114-9417-680e86e35e2a"
      },
      "execution_count": null,
      "outputs": [
        {
          "output_type": "stream",
          "name": "stdout",
          "text": [
            "📈 Epoch 01 | Val Accuracy: 0.3158\n",
            "📈 Epoch 02 | Val Accuracy: 0.4868\n",
            "📈 Epoch 03 | Val Accuracy: 0.5658\n",
            "📈 Epoch 04 | Val Accuracy: 0.5921\n",
            "📈 Epoch 05 | Val Accuracy: 0.4605\n",
            "📈 Epoch 06 | Val Accuracy: 0.3947\n",
            "📈 Epoch 07 | Val Accuracy: 0.4079\n",
            "📈 Epoch 08 | Val Accuracy: 0.3816\n",
            "📈 Epoch 09 | Val Accuracy: 0.5000\n",
            "📈 Epoch 10 | Val Accuracy: 0.4342\n",
            "📈 Epoch 11 | Val Accuracy: 0.4211\n",
            "📈 Epoch 12 | Val Accuracy: 0.5921\n",
            "📈 Epoch 13 | Val Accuracy: 0.5395\n",
            "📈 Epoch 14 | Val Accuracy: 0.4605\n",
            "📈 Epoch 15 | Val Accuracy: 0.4737\n",
            "📈 Epoch 16 | Val Accuracy: 0.4868\n",
            "📈 Epoch 17 | Val Accuracy: 0.5789\n",
            "📈 Epoch 18 | Val Accuracy: 0.5658\n",
            "📈 Epoch 19 | Val Accuracy: 0.5921\n",
            "📈 Epoch 20 | Val Accuracy: 0.5921\n"
          ]
        }
      ]
    },
    {
      "cell_type": "code",
      "source": [
        "!pip install torch-scatter -f https://data.pyg.org/whl/torch-2.0.0+cu118.html\n",
        "!pip install torch-sparse -f https://data.pyg.org/whl/torch-2.0.0+cu118.html\n",
        "!pip install torch-geometric\n"
      ],
      "metadata": {
        "colab": {
          "base_uri": "https://localhost:8080/"
        },
        "id": "r-Cftw7CB9nN",
        "outputId": "26941144-9b50-4969-fcfa-6e7abe546166"
      },
      "execution_count": null,
      "outputs": [
        {
          "output_type": "stream",
          "name": "stdout",
          "text": [
            "Looking in links: https://data.pyg.org/whl/torch-2.0.0+cu118.html\n",
            "Collecting torch-scatter\n",
            "  Downloading https://data.pyg.org/whl/torch-2.0.0%2Bcu118/torch_scatter-2.1.2%2Bpt20cu118-cp311-cp311-linux_x86_64.whl (10.2 MB)\n",
            "\u001b[2K     \u001b[90m━━━━━━━━━━━━━━━━━━━━━━━━━━━━━━━━━━━━━━━━\u001b[0m \u001b[32m10.2/10.2 MB\u001b[0m \u001b[31m57.9 MB/s\u001b[0m eta \u001b[36m0:00:00\u001b[0m\n",
            "\u001b[?25hInstalling collected packages: torch-scatter\n",
            "Successfully installed torch-scatter-2.1.2+pt20cu118\n",
            "Looking in links: https://data.pyg.org/whl/torch-2.0.0+cu118.html\n",
            "Collecting torch-sparse\n",
            "  Downloading https://data.pyg.org/whl/torch-2.0.0%2Bcu118/torch_sparse-0.6.18%2Bpt20cu118-cp311-cp311-linux_x86_64.whl (4.9 MB)\n",
            "\u001b[2K     \u001b[90m━━━━━━━━━━━━━━━━━━━━━━━━━━━━━━━━━━━━━━━━\u001b[0m \u001b[32m4.9/4.9 MB\u001b[0m \u001b[31m35.4 MB/s\u001b[0m eta \u001b[36m0:00:00\u001b[0m\n",
            "\u001b[?25hRequirement already satisfied: scipy in /usr/local/lib/python3.11/dist-packages (from torch-sparse) (1.14.1)\n",
            "Requirement already satisfied: numpy<2.3,>=1.23.5 in /usr/local/lib/python3.11/dist-packages (from scipy->torch-sparse) (2.0.2)\n",
            "Installing collected packages: torch-sparse\n",
            "Successfully installed torch-sparse-0.6.18+pt20cu118\n",
            "Collecting torch-geometric\n",
            "  Downloading torch_geometric-2.6.1-py3-none-any.whl.metadata (63 kB)\n",
            "\u001b[2K     \u001b[90m━━━━━━━━━━━━━━━━━━━━━━━━━━━━━━━━━━━━━━━━\u001b[0m \u001b[32m63.1/63.1 kB\u001b[0m \u001b[31m1.8 MB/s\u001b[0m eta \u001b[36m0:00:00\u001b[0m\n",
            "\u001b[?25hRequirement already satisfied: aiohttp in /usr/local/lib/python3.11/dist-packages (from torch-geometric) (3.11.15)\n",
            "Requirement already satisfied: fsspec in /usr/local/lib/python3.11/dist-packages (from torch-geometric) (2025.3.2)\n",
            "Requirement already satisfied: jinja2 in /usr/local/lib/python3.11/dist-packages (from torch-geometric) (3.1.6)\n",
            "Requirement already satisfied: numpy in /usr/local/lib/python3.11/dist-packages (from torch-geometric) (2.0.2)\n",
            "Requirement already satisfied: psutil>=5.8.0 in /usr/local/lib/python3.11/dist-packages (from torch-geometric) (5.9.5)\n",
            "Requirement already satisfied: pyparsing in /usr/local/lib/python3.11/dist-packages (from torch-geometric) (3.2.3)\n",
            "Requirement already satisfied: requests in /usr/local/lib/python3.11/dist-packages (from torch-geometric) (2.32.3)\n",
            "Requirement already satisfied: tqdm in /usr/local/lib/python3.11/dist-packages (from torch-geometric) (4.67.1)\n",
            "Requirement already satisfied: aiohappyeyeballs>=2.3.0 in /usr/local/lib/python3.11/dist-packages (from aiohttp->torch-geometric) (2.6.1)\n",
            "Requirement already satisfied: aiosignal>=1.1.2 in /usr/local/lib/python3.11/dist-packages (from aiohttp->torch-geometric) (1.3.2)\n",
            "Requirement already satisfied: attrs>=17.3.0 in /usr/local/lib/python3.11/dist-packages (from aiohttp->torch-geometric) (25.3.0)\n",
            "Requirement already satisfied: frozenlist>=1.1.1 in /usr/local/lib/python3.11/dist-packages (from aiohttp->torch-geometric) (1.5.0)\n",
            "Requirement already satisfied: multidict<7.0,>=4.5 in /usr/local/lib/python3.11/dist-packages (from aiohttp->torch-geometric) (6.4.3)\n",
            "Requirement already satisfied: propcache>=0.2.0 in /usr/local/lib/python3.11/dist-packages (from aiohttp->torch-geometric) (0.3.1)\n",
            "Requirement already satisfied: yarl<2.0,>=1.17.0 in /usr/local/lib/python3.11/dist-packages (from aiohttp->torch-geometric) (1.19.0)\n",
            "Requirement already satisfied: MarkupSafe>=2.0 in /usr/local/lib/python3.11/dist-packages (from jinja2->torch-geometric) (3.0.2)\n",
            "Requirement already satisfied: charset-normalizer<4,>=2 in /usr/local/lib/python3.11/dist-packages (from requests->torch-geometric) (3.4.1)\n",
            "Requirement already satisfied: idna<4,>=2.5 in /usr/local/lib/python3.11/dist-packages (from requests->torch-geometric) (3.10)\n",
            "Requirement already satisfied: urllib3<3,>=1.21.1 in /usr/local/lib/python3.11/dist-packages (from requests->torch-geometric) (2.3.0)\n",
            "Requirement already satisfied: certifi>=2017.4.17 in /usr/local/lib/python3.11/dist-packages (from requests->torch-geometric) (2025.1.31)\n",
            "Downloading torch_geometric-2.6.1-py3-none-any.whl (1.1 MB)\n",
            "\u001b[2K   \u001b[90m━━━━━━━━━━━━━━━━━━━━━━━━━━━━━━━━━━━━━━━━\u001b[0m \u001b[32m1.1/1.1 MB\u001b[0m \u001b[31m19.6 MB/s\u001b[0m eta \u001b[36m0:00:00\u001b[0m\n",
            "\u001b[?25hInstalling collected packages: torch-geometric\n",
            "Successfully installed torch-geometric-2.6.1\n"
          ]
        }
      ]
    },
    {
      "cell_type": "code",
      "source": [
        "from torch_geometric.data import Data\n",
        "import torch\n",
        "\n",
        "# Load preprocessed dataset\n",
        "df = pd.read_csv(\"final_dataset_encoded.csv\")\n",
        "\n",
        "# Define nodes (unique team IDs)\n",
        "teams = pd.unique(df[['Home_Team_ID', 'Away_Team_ID']].values.ravel())\n",
        "team_id_map = {team: i for i, team in enumerate(teams)}\n",
        "num_nodes = len(teams)\n",
        "\n",
        "# Edge list\n",
        "edge_index = torch.tensor([\n",
        "    [team_id_map[h] for h in df[\"Home_Team_ID\"]],\n",
        "    [team_id_map[a] for a in df[\"Away_Team_ID\"]],\n",
        "], dtype=torch.long)\n",
        "\n",
        "# Edge features (excluding IDs + target)\n",
        "edge_features = df.drop(columns=[\n",
        "    \"Home Result\", \"Home_Team_ID\", \"Away_Team_ID\"\n",
        "]).values\n",
        "edge_attr = torch.tensor(edge_features, dtype=torch.float32)\n",
        "\n",
        "# Edge labels\n",
        "edge_labels = torch.tensor(df[\"Home Result\"].values, dtype=torch.long)\n",
        "\n",
        "# Create dummy node features (could be improved later)\n",
        "x = torch.eye(num_nodes, dtype=torch.float32)\n",
        "\n",
        "# PyG Data object\n",
        "data = Data(x=x, edge_index=edge_index, edge_attr=edge_attr, edge_label=edge_labels)\n"
      ],
      "metadata": {
        "id": "oOtTGxgeCSnb"
      },
      "execution_count": null,
      "outputs": []
    },
    {
      "cell_type": "code",
      "source": [
        "from torch_geometric.nn import GATConv\n",
        "\n",
        "class GATEdgeClassifier(torch.nn.Module):\n",
        "    def __init__(self, in_channels, edge_in_channels, hidden_channels, num_classes):\n",
        "        super().__init__()\n",
        "        self.gat1 = GATConv(in_channels, hidden_channels, heads=2, concat=True)\n",
        "        self.gat2 = GATConv(hidden_channels * 2, hidden_channels, heads=1, concat=True)\n",
        "        self.edge_mlp = nn.Sequential(\n",
        "            nn.Linear(2 * hidden_channels + edge_in_channels, 64),\n",
        "            nn.ReLU(),\n",
        "            nn.Linear(64, num_classes)\n",
        "        )\n",
        "\n",
        "    def forward(self, x, edge_index, edge_attr):\n",
        "        node_repr = self.gat1(x, edge_index)\n",
        "        node_repr = self.gat2(node_repr, edge_index)\n",
        "\n",
        "        # Get source and target node embeddings\n",
        "        src, dst = edge_index\n",
        "        src_repr = node_repr[src]\n",
        "        dst_repr = node_repr[dst]\n",
        "\n",
        "        edge_input = torch.cat([src_repr, dst_repr, edge_attr], dim=1)\n",
        "        return self.edge_mlp(edge_input)\n"
      ],
      "metadata": {
        "id": "f4Ec29-zCVe8"
      },
      "execution_count": null,
      "outputs": []
    },
    {
      "cell_type": "code",
      "source": [
        "model = GATEdgeClassifier(\n",
        "    in_channels=data.num_node_features,\n",
        "    edge_in_channels=data.edge_attr.size(1),\n",
        "    hidden_channels=32,\n",
        "    num_classes=3\n",
        ")\n",
        "\n",
        "optimizer = torch.optim.Adam(model.parameters(), lr=0.005)\n",
        "loss_fn = nn.CrossEntropyLoss()\n",
        "\n",
        "for epoch in range(30):\n",
        "    model.train()\n",
        "    optimizer.zero_grad()\n",
        "    out = model(data.x, data.edge_index, data.edge_attr)\n",
        "    loss = loss_fn(out, data.edge_label)\n",
        "    loss.backward()\n",
        "    optimizer.step()\n",
        "\n",
        "    preds = out.argmax(dim=1)\n",
        "    acc = (preds == data.edge_label).sum().item() / len(preds)\n",
        "    print(f\"📊 Epoch {epoch+1:02d} | Loss: {loss.item():.4f} | Accuracy: {acc:.4f}\")\n"
      ],
      "metadata": {
        "colab": {
          "base_uri": "https://localhost:8080/"
        },
        "id": "s6ea1Im2CXKX",
        "outputId": "85cb9074-b636-409a-d7c9-f564aaccd410"
      },
      "execution_count": null,
      "outputs": [
        {
          "output_type": "stream",
          "name": "stdout",
          "text": [
            "📊 Epoch 01 | Loss: 1.0877 | Accuracy: 0.4316\n",
            "📊 Epoch 02 | Loss: 1.0551 | Accuracy: 0.4842\n",
            "📊 Epoch 03 | Loss: 1.0561 | Accuracy: 0.4842\n",
            "📊 Epoch 04 | Loss: 1.0520 | Accuracy: 0.4842\n",
            "📊 Epoch 05 | Loss: 1.0441 | Accuracy: 0.4868\n",
            "📊 Epoch 06 | Loss: 1.0352 | Accuracy: 0.4842\n",
            "📊 Epoch 07 | Loss: 1.0283 | Accuracy: 0.4816\n",
            "📊 Epoch 08 | Loss: 1.0266 | Accuracy: 0.4816\n",
            "📊 Epoch 09 | Loss: 1.0257 | Accuracy: 0.4816\n",
            "📊 Epoch 10 | Loss: 1.0222 | Accuracy: 0.4816\n",
            "📊 Epoch 11 | Loss: 1.0178 | Accuracy: 0.4895\n",
            "📊 Epoch 12 | Loss: 1.0133 | Accuracy: 0.4895\n",
            "📊 Epoch 13 | Loss: 1.0091 | Accuracy: 0.5026\n",
            "📊 Epoch 14 | Loss: 1.0060 | Accuracy: 0.4895\n",
            "📊 Epoch 15 | Loss: 1.0026 | Accuracy: 0.4947\n",
            "📊 Epoch 16 | Loss: 0.9983 | Accuracy: 0.4895\n",
            "📊 Epoch 17 | Loss: 0.9943 | Accuracy: 0.5000\n",
            "📊 Epoch 18 | Loss: 0.9903 | Accuracy: 0.5053\n",
            "📊 Epoch 19 | Loss: 0.9862 | Accuracy: 0.5105\n",
            "📊 Epoch 20 | Loss: 0.9825 | Accuracy: 0.5079\n",
            "📊 Epoch 21 | Loss: 0.9786 | Accuracy: 0.5158\n",
            "📊 Epoch 22 | Loss: 0.9742 | Accuracy: 0.5158\n",
            "📊 Epoch 23 | Loss: 0.9704 | Accuracy: 0.5342\n",
            "📊 Epoch 24 | Loss: 0.9666 | Accuracy: 0.5342\n",
            "📊 Epoch 25 | Loss: 0.9629 | Accuracy: 0.5342\n",
            "📊 Epoch 26 | Loss: 0.9595 | Accuracy: 0.5368\n",
            "📊 Epoch 27 | Loss: 0.9558 | Accuracy: 0.5500\n",
            "📊 Epoch 28 | Loss: 0.9525 | Accuracy: 0.5553\n",
            "📊 Epoch 29 | Loss: 0.9494 | Accuracy: 0.5579\n",
            "📊 Epoch 30 | Loss: 0.9468 | Accuracy: 0.5579\n"
          ]
        }
      ]
    }
  ]
}